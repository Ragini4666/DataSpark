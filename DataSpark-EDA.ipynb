{
 "cells": [
  {
   "cell_type": "code",
   "execution_count": 100,
   "id": "37787707-d6be-413c-ae61-fe8a9a997745",
   "metadata": {},
   "outputs": [],
   "source": [
    "import pandas as pd\n",
    "import numpy as np \n",
    "import matplotlib.pyplot as plt\n",
    "import seaborn as sns\n"
   ]
  },
  {
   "cell_type": "code",
   "execution_count": 2,
   "id": "87981578-74e4-4110-8d4d-0d859a8b25a9",
   "metadata": {
    "scrolled": true
   },
   "outputs": [],
   "source": [
    "d=pd.read_csv(\"C:/Users/ragin/Downloads/Exchange_Rates.csv\")"
   ]
  },
  {
   "cell_type": "code",
   "execution_count": 3,
   "id": "61528a2a-0b1e-4e8d-a533-5d3677b5779f",
   "metadata": {},
   "outputs": [],
   "source": [
    "d1=pd.read_csv(\"C:/Users/ragin/Downloads/Sales.csv\")"
   ]
  },
  {
   "cell_type": "code",
   "execution_count": 4,
   "id": "6e495cd6-e994-4dab-b11e-e31c000d8587",
   "metadata": {},
   "outputs": [],
   "source": [
    "d2=pd.read_csv(\"C:/Users/ragin/Downloads/Products.csv\")"
   ]
  },
  {
   "cell_type": "code",
   "execution_count": 5,
   "id": "7f184a4a-f04f-4068-94ed-ffabd8ef4a20",
   "metadata": {},
   "outputs": [],
   "source": [
    "d3=pd.read_csv(\"C:/Users/ragin/Downloads/Stores.csv\")"
   ]
  },
  {
   "cell_type": "code",
   "execution_count": 6,
   "id": "053bcdff-b9ed-40f7-897d-aba744880ae6",
   "metadata": {},
   "outputs": [],
   "source": [
    "d4 = pd.read_csv(\"C:/Users/ragin/Downloads/Customers.csv\", encoding='latin1')\n"
   ]
  },
  {
   "cell_type": "markdown",
   "id": "ec912436-dd31-47c2-ba3e-272ecd7a10aa",
   "metadata": {},
   "source": [
    "### d4 -- CUSTOMERS DETAILS"
   ]
  },
  {
   "cell_type": "code",
   "execution_count": 8,
   "id": "691e8090-2438-4365-aa41-acb831cebdb0",
   "metadata": {},
   "outputs": [
    {
     "data": {
      "text/html": [
       "<div>\n",
       "<style scoped>\n",
       "    .dataframe tbody tr th:only-of-type {\n",
       "        vertical-align: middle;\n",
       "    }\n",
       "\n",
       "    .dataframe tbody tr th {\n",
       "        vertical-align: top;\n",
       "    }\n",
       "\n",
       "    .dataframe thead th {\n",
       "        text-align: right;\n",
       "    }\n",
       "</style>\n",
       "<table border=\"1\" class=\"dataframe\">\n",
       "  <thead>\n",
       "    <tr style=\"text-align: right;\">\n",
       "      <th></th>\n",
       "      <th>CustomerKey</th>\n",
       "      <th>Gender</th>\n",
       "      <th>Name</th>\n",
       "      <th>City</th>\n",
       "      <th>State Code</th>\n",
       "      <th>State</th>\n",
       "      <th>Zip Code</th>\n",
       "      <th>Country</th>\n",
       "      <th>Continent</th>\n",
       "      <th>Birthday</th>\n",
       "    </tr>\n",
       "  </thead>\n",
       "  <tbody>\n",
       "    <tr>\n",
       "      <th>0</th>\n",
       "      <td>301</td>\n",
       "      <td>Female</td>\n",
       "      <td>Lilly Harding</td>\n",
       "      <td>WANDEARAH EAST</td>\n",
       "      <td>SA</td>\n",
       "      <td>South Australia</td>\n",
       "      <td>5523</td>\n",
       "      <td>Australia</td>\n",
       "      <td>Australia</td>\n",
       "      <td>7/3/1939</td>\n",
       "    </tr>\n",
       "    <tr>\n",
       "      <th>1</th>\n",
       "      <td>325</td>\n",
       "      <td>Female</td>\n",
       "      <td>Madison Hull</td>\n",
       "      <td>MOUNT BUDD</td>\n",
       "      <td>WA</td>\n",
       "      <td>Western Australia</td>\n",
       "      <td>6522</td>\n",
       "      <td>Australia</td>\n",
       "      <td>Australia</td>\n",
       "      <td>9/27/1979</td>\n",
       "    </tr>\n",
       "    <tr>\n",
       "      <th>2</th>\n",
       "      <td>554</td>\n",
       "      <td>Female</td>\n",
       "      <td>Claire Ferres</td>\n",
       "      <td>WINJALLOK</td>\n",
       "      <td>VIC</td>\n",
       "      <td>Victoria</td>\n",
       "      <td>3380</td>\n",
       "      <td>Australia</td>\n",
       "      <td>Australia</td>\n",
       "      <td>5/26/1947</td>\n",
       "    </tr>\n",
       "    <tr>\n",
       "      <th>3</th>\n",
       "      <td>786</td>\n",
       "      <td>Male</td>\n",
       "      <td>Jai Poltpalingada</td>\n",
       "      <td>MIDDLE RIVER</td>\n",
       "      <td>SA</td>\n",
       "      <td>South Australia</td>\n",
       "      <td>5223</td>\n",
       "      <td>Australia</td>\n",
       "      <td>Australia</td>\n",
       "      <td>9/17/1957</td>\n",
       "    </tr>\n",
       "    <tr>\n",
       "      <th>4</th>\n",
       "      <td>1042</td>\n",
       "      <td>Male</td>\n",
       "      <td>Aidan Pankhurst</td>\n",
       "      <td>TAWONGA SOUTH</td>\n",
       "      <td>VIC</td>\n",
       "      <td>Victoria</td>\n",
       "      <td>3698</td>\n",
       "      <td>Australia</td>\n",
       "      <td>Australia</td>\n",
       "      <td>11/19/1965</td>\n",
       "    </tr>\n",
       "  </tbody>\n",
       "</table>\n",
       "</div>"
      ],
      "text/plain": [
       "   CustomerKey  Gender               Name            City State Code  \\\n",
       "0          301  Female      Lilly Harding  WANDEARAH EAST         SA   \n",
       "1          325  Female       Madison Hull      MOUNT BUDD         WA   \n",
       "2          554  Female      Claire Ferres       WINJALLOK        VIC   \n",
       "3          786    Male  Jai Poltpalingada    MIDDLE RIVER         SA   \n",
       "4         1042    Male    Aidan Pankhurst   TAWONGA SOUTH        VIC   \n",
       "\n",
       "               State Zip Code    Country  Continent    Birthday  \n",
       "0    South Australia     5523  Australia  Australia    7/3/1939  \n",
       "1  Western Australia     6522  Australia  Australia   9/27/1979  \n",
       "2           Victoria     3380  Australia  Australia   5/26/1947  \n",
       "3    South Australia     5223  Australia  Australia   9/17/1957  \n",
       "4           Victoria     3698  Australia  Australia  11/19/1965  "
      ]
     },
     "execution_count": 8,
     "metadata": {},
     "output_type": "execute_result"
    }
   ],
   "source": [
    "d4.head()"
   ]
  },
  {
   "cell_type": "markdown",
   "id": "8a50d735-ac13-4677-a98c-d58860d6e83a",
   "metadata": {},
   "source": [
    "### DESCRIBE ONLY NUMERICAL VALUE"
   ]
  },
  {
   "cell_type": "code",
   "execution_count": 10,
   "id": "9d9df34c-0044-4285-b30c-804044708074",
   "metadata": {},
   "outputs": [
    {
     "data": {
      "text/html": [
       "<div>\n",
       "<style scoped>\n",
       "    .dataframe tbody tr th:only-of-type {\n",
       "        vertical-align: middle;\n",
       "    }\n",
       "\n",
       "    .dataframe tbody tr th {\n",
       "        vertical-align: top;\n",
       "    }\n",
       "\n",
       "    .dataframe thead th {\n",
       "        text-align: right;\n",
       "    }\n",
       "</style>\n",
       "<table border=\"1\" class=\"dataframe\">\n",
       "  <thead>\n",
       "    <tr style=\"text-align: right;\">\n",
       "      <th></th>\n",
       "      <th>CustomerKey</th>\n",
       "    </tr>\n",
       "  </thead>\n",
       "  <tbody>\n",
       "    <tr>\n",
       "      <th>count</th>\n",
       "      <td>1.526600e+04</td>\n",
       "    </tr>\n",
       "    <tr>\n",
       "      <th>mean</th>\n",
       "      <td>1.060508e+06</td>\n",
       "    </tr>\n",
       "    <tr>\n",
       "      <th>std</th>\n",
       "      <td>6.127097e+05</td>\n",
       "    </tr>\n",
       "    <tr>\n",
       "      <th>min</th>\n",
       "      <td>3.010000e+02</td>\n",
       "    </tr>\n",
       "    <tr>\n",
       "      <th>25%</th>\n",
       "      <td>5.140335e+05</td>\n",
       "    </tr>\n",
       "    <tr>\n",
       "      <th>50%</th>\n",
       "      <td>1.079244e+06</td>\n",
       "    </tr>\n",
       "    <tr>\n",
       "      <th>75%</th>\n",
       "      <td>1.593980e+06</td>\n",
       "    </tr>\n",
       "    <tr>\n",
       "      <th>max</th>\n",
       "      <td>2.099937e+06</td>\n",
       "    </tr>\n",
       "  </tbody>\n",
       "</table>\n",
       "</div>"
      ],
      "text/plain": [
       "        CustomerKey\n",
       "count  1.526600e+04\n",
       "mean   1.060508e+06\n",
       "std    6.127097e+05\n",
       "min    3.010000e+02\n",
       "25%    5.140335e+05\n",
       "50%    1.079244e+06\n",
       "75%    1.593980e+06\n",
       "max    2.099937e+06"
      ]
     },
     "execution_count": 10,
     "metadata": {},
     "output_type": "execute_result"
    }
   ],
   "source": [
    "d4.describe()"
   ]
  },
  {
   "cell_type": "code",
   "execution_count": 11,
   "id": "b12fdd91-3db7-4669-a48c-9f494df39a33",
   "metadata": {
    "scrolled": true
   },
   "outputs": [
    {
     "data": {
      "text/html": [
       "<div>\n",
       "<style scoped>\n",
       "    .dataframe tbody tr th:only-of-type {\n",
       "        vertical-align: middle;\n",
       "    }\n",
       "\n",
       "    .dataframe tbody tr th {\n",
       "        vertical-align: top;\n",
       "    }\n",
       "\n",
       "    .dataframe thead th {\n",
       "        text-align: right;\n",
       "    }\n",
       "</style>\n",
       "<table border=\"1\" class=\"dataframe\">\n",
       "  <thead>\n",
       "    <tr style=\"text-align: right;\">\n",
       "      <th></th>\n",
       "      <th>Gender</th>\n",
       "      <th>Name</th>\n",
       "      <th>City</th>\n",
       "      <th>State Code</th>\n",
       "      <th>State</th>\n",
       "      <th>Zip Code</th>\n",
       "      <th>Country</th>\n",
       "      <th>Continent</th>\n",
       "      <th>Birthday</th>\n",
       "    </tr>\n",
       "  </thead>\n",
       "  <tbody>\n",
       "    <tr>\n",
       "      <th>count</th>\n",
       "      <td>15266</td>\n",
       "      <td>15266</td>\n",
       "      <td>15266</td>\n",
       "      <td>15256</td>\n",
       "      <td>15266</td>\n",
       "      <td>15266</td>\n",
       "      <td>15266</td>\n",
       "      <td>15266</td>\n",
       "      <td>15266</td>\n",
       "    </tr>\n",
       "    <tr>\n",
       "      <th>unique</th>\n",
       "      <td>2</td>\n",
       "      <td>15118</td>\n",
       "      <td>8258</td>\n",
       "      <td>467</td>\n",
       "      <td>512</td>\n",
       "      <td>9505</td>\n",
       "      <td>8</td>\n",
       "      <td>3</td>\n",
       "      <td>11270</td>\n",
       "    </tr>\n",
       "    <tr>\n",
       "      <th>top</th>\n",
       "      <td>Male</td>\n",
       "      <td>John Smith</td>\n",
       "      <td>Toronto</td>\n",
       "      <td>CA</td>\n",
       "      <td>California</td>\n",
       "      <td>90017</td>\n",
       "      <td>United States</td>\n",
       "      <td>North America</td>\n",
       "      <td>6/12/1989</td>\n",
       "    </tr>\n",
       "    <tr>\n",
       "      <th>freq</th>\n",
       "      <td>7748</td>\n",
       "      <td>4</td>\n",
       "      <td>204</td>\n",
       "      <td>740</td>\n",
       "      <td>715</td>\n",
       "      <td>70</td>\n",
       "      <td>6828</td>\n",
       "      <td>8381</td>\n",
       "      <td>5</td>\n",
       "    </tr>\n",
       "  </tbody>\n",
       "</table>\n",
       "</div>"
      ],
      "text/plain": [
       "       Gender        Name     City State Code       State Zip Code  \\\n",
       "count   15266       15266    15266      15256       15266    15266   \n",
       "unique      2       15118     8258        467         512     9505   \n",
       "top      Male  John Smith  Toronto         CA  California    90017   \n",
       "freq     7748           4      204        740         715       70   \n",
       "\n",
       "              Country      Continent   Birthday  \n",
       "count           15266          15266      15266  \n",
       "unique              8              3      11270  \n",
       "top     United States  North America  6/12/1989  \n",
       "freq             6828           8381          5  "
      ]
     },
     "execution_count": 11,
     "metadata": {},
     "output_type": "execute_result"
    }
   ],
   "source": [
    "### DESCRIBE CATEGORICAL DATA\n",
    "d4.describe(include='object')\n"
   ]
  },
  {
   "cell_type": "code",
   "execution_count": 12,
   "id": "bcdddceb-ed88-4d3a-8009-15085735f2fa",
   "metadata": {},
   "outputs": [
    {
     "data": {
      "text/plain": [
       "(15266, 10)"
      ]
     },
     "execution_count": 12,
     "metadata": {},
     "output_type": "execute_result"
    }
   ],
   "source": [
    "d4.shape"
   ]
  },
  {
   "cell_type": "code",
   "execution_count": 13,
   "id": "5946de02-4b16-411f-b101-1a972f6edf12",
   "metadata": {},
   "outputs": [
    {
     "data": {
      "text/plain": [
       "CustomerKey     0\n",
       "Gender          0\n",
       "Name            0\n",
       "City            0\n",
       "State Code     10\n",
       "State           0\n",
       "Zip Code        0\n",
       "Country         0\n",
       "Continent       0\n",
       "Birthday        0\n",
       "dtype: int64"
      ]
     },
     "execution_count": 13,
     "metadata": {},
     "output_type": "execute_result"
    }
   ],
   "source": [
    "d4.isnull().sum()"
   ]
  },
  {
   "cell_type": "markdown",
   "id": "13cd41e0-068e-432e-9c32-0918005bf323",
   "metadata": {},
   "source": [
    "### FILL THE NAN VALUES (10 DATA ONLY)"
   ]
  },
  {
   "cell_type": "code",
   "execution_count": 15,
   "id": "f6310784-d569-41dc-a28d-8b027550d1d7",
   "metadata": {},
   "outputs": [],
   "source": [
    "d4['State Code'] = d4['State Code'].fillna(d4['State Code'].mode()[0])\n"
   ]
  },
  {
   "cell_type": "code",
   "execution_count": 16,
   "id": "712c7edd-24e8-4908-a9bf-f0184abcfa3f",
   "metadata": {},
   "outputs": [
    {
     "data": {
      "text/plain": [
       "0"
      ]
     },
     "execution_count": 16,
     "metadata": {},
     "output_type": "execute_result"
    }
   ],
   "source": [
    "d4['State Code'].isnull().sum()"
   ]
  },
  {
   "cell_type": "code",
   "execution_count": 17,
   "id": "ec221b16-8256-4f93-bc2f-bd9c81c3d09a",
   "metadata": {},
   "outputs": [
    {
     "data": {
      "text/plain": [
       "0         SA\n",
       "1         WA\n",
       "2        VIC\n",
       "3         SA\n",
       "4        VIC\n",
       "        ... \n",
       "15261     TX\n",
       "15262     VA\n",
       "15263     NC\n",
       "15264     CA\n",
       "15265     MI\n",
       "Name: State Code, Length: 15266, dtype: object"
      ]
     },
     "execution_count": 17,
     "metadata": {},
     "output_type": "execute_result"
    }
   ],
   "source": [
    "d4['State Code']"
   ]
  },
  {
   "cell_type": "code",
   "execution_count": 18,
   "id": "1f556cba-06dc-4302-8400-06c9d92cfb54",
   "metadata": {},
   "outputs": [
    {
     "name": "stdout",
     "output_type": "stream",
     "text": [
      "<class 'pandas.core.frame.DataFrame'>\n",
      "RangeIndex: 15266 entries, 0 to 15265\n",
      "Data columns (total 10 columns):\n",
      " #   Column       Non-Null Count  Dtype \n",
      "---  ------       --------------  ----- \n",
      " 0   CustomerKey  15266 non-null  int64 \n",
      " 1   Gender       15266 non-null  object\n",
      " 2   Name         15266 non-null  object\n",
      " 3   City         15266 non-null  object\n",
      " 4   State Code   15266 non-null  object\n",
      " 5   State        15266 non-null  object\n",
      " 6   Zip Code     15266 non-null  object\n",
      " 7   Country      15266 non-null  object\n",
      " 8   Continent    15266 non-null  object\n",
      " 9   Birthday     15266 non-null  object\n",
      "dtypes: int64(1), object(9)\n",
      "memory usage: 1.2+ MB\n"
     ]
    }
   ],
   "source": [
    "d4.info()"
   ]
  },
  {
   "cell_type": "code",
   "execution_count": 19,
   "id": "d17f3111-20fc-4bb2-8ffd-d26201eb216f",
   "metadata": {},
   "outputs": [
    {
     "data": {
      "text/plain": [
       "CustomerKey     int64\n",
       "Gender         object\n",
       "Name           object\n",
       "City           object\n",
       "State Code     object\n",
       "State          object\n",
       "Zip Code       object\n",
       "Country        object\n",
       "Continent      object\n",
       "Birthday       object\n",
       "dtype: object"
      ]
     },
     "execution_count": 19,
     "metadata": {},
     "output_type": "execute_result"
    }
   ],
   "source": [
    "d4.dtypes"
   ]
  },
  {
   "cell_type": "code",
   "execution_count": 20,
   "id": "017f1c92-aaaf-4f46-b714-a35ceef402a3",
   "metadata": {},
   "outputs": [
    {
     "data": {
      "text/plain": [
       "0"
      ]
     },
     "execution_count": 20,
     "metadata": {},
     "output_type": "execute_result"
    }
   ],
   "source": [
    "d4.duplicated().sum()"
   ]
  },
  {
   "cell_type": "code",
   "execution_count": null,
   "id": "47a726a1-13e4-47bd-ad3c-10dc71d11574",
   "metadata": {},
   "outputs": [],
   "source": [
    "\n"
   ]
  },
  {
   "cell_type": "markdown",
   "id": "e92ec84c-e9eb-47e7-bd1c-ed8786b87067",
   "metadata": {},
   "source": [
    "### D3 -- STORES DETAILS"
   ]
  },
  {
   "cell_type": "code",
   "execution_count": 23,
   "id": "fd095ec8-757f-4647-a4c7-a0a1573a609a",
   "metadata": {},
   "outputs": [
    {
     "data": {
      "text/html": [
       "<div>\n",
       "<style scoped>\n",
       "    .dataframe tbody tr th:only-of-type {\n",
       "        vertical-align: middle;\n",
       "    }\n",
       "\n",
       "    .dataframe tbody tr th {\n",
       "        vertical-align: top;\n",
       "    }\n",
       "\n",
       "    .dataframe thead th {\n",
       "        text-align: right;\n",
       "    }\n",
       "</style>\n",
       "<table border=\"1\" class=\"dataframe\">\n",
       "  <thead>\n",
       "    <tr style=\"text-align: right;\">\n",
       "      <th></th>\n",
       "      <th>StoreKey</th>\n",
       "      <th>Country</th>\n",
       "      <th>State</th>\n",
       "      <th>Square Meters</th>\n",
       "      <th>Open Date</th>\n",
       "    </tr>\n",
       "  </thead>\n",
       "  <tbody>\n",
       "    <tr>\n",
       "      <th>0</th>\n",
       "      <td>1</td>\n",
       "      <td>Australia</td>\n",
       "      <td>Australian Capital Territory</td>\n",
       "      <td>595.0</td>\n",
       "      <td>1/1/2008</td>\n",
       "    </tr>\n",
       "    <tr>\n",
       "      <th>1</th>\n",
       "      <td>2</td>\n",
       "      <td>Australia</td>\n",
       "      <td>Northern Territory</td>\n",
       "      <td>665.0</td>\n",
       "      <td>1/12/2008</td>\n",
       "    </tr>\n",
       "    <tr>\n",
       "      <th>2</th>\n",
       "      <td>3</td>\n",
       "      <td>Australia</td>\n",
       "      <td>South Australia</td>\n",
       "      <td>2000.0</td>\n",
       "      <td>1/7/2012</td>\n",
       "    </tr>\n",
       "    <tr>\n",
       "      <th>3</th>\n",
       "      <td>4</td>\n",
       "      <td>Australia</td>\n",
       "      <td>Tasmania</td>\n",
       "      <td>2000.0</td>\n",
       "      <td>1/1/2010</td>\n",
       "    </tr>\n",
       "    <tr>\n",
       "      <th>4</th>\n",
       "      <td>5</td>\n",
       "      <td>Australia</td>\n",
       "      <td>Victoria</td>\n",
       "      <td>2000.0</td>\n",
       "      <td>12/9/2015</td>\n",
       "    </tr>\n",
       "  </tbody>\n",
       "</table>\n",
       "</div>"
      ],
      "text/plain": [
       "   StoreKey    Country                         State  Square Meters  Open Date\n",
       "0         1  Australia  Australian Capital Territory          595.0   1/1/2008\n",
       "1         2  Australia            Northern Territory          665.0  1/12/2008\n",
       "2         3  Australia               South Australia         2000.0   1/7/2012\n",
       "3         4  Australia                      Tasmania         2000.0   1/1/2010\n",
       "4         5  Australia                      Victoria         2000.0  12/9/2015"
      ]
     },
     "execution_count": 23,
     "metadata": {},
     "output_type": "execute_result"
    }
   ],
   "source": [
    "d3.head()"
   ]
  },
  {
   "cell_type": "code",
   "execution_count": 24,
   "id": "22ac4d50-07d9-4060-8f25-30e61c992af1",
   "metadata": {},
   "outputs": [
    {
     "data": {
      "text/html": [
       "<div>\n",
       "<style scoped>\n",
       "    .dataframe tbody tr th:only-of-type {\n",
       "        vertical-align: middle;\n",
       "    }\n",
       "\n",
       "    .dataframe tbody tr th {\n",
       "        vertical-align: top;\n",
       "    }\n",
       "\n",
       "    .dataframe thead th {\n",
       "        text-align: right;\n",
       "    }\n",
       "</style>\n",
       "<table border=\"1\" class=\"dataframe\">\n",
       "  <thead>\n",
       "    <tr style=\"text-align: right;\">\n",
       "      <th></th>\n",
       "      <th>StoreKey</th>\n",
       "      <th>Square Meters</th>\n",
       "    </tr>\n",
       "  </thead>\n",
       "  <tbody>\n",
       "    <tr>\n",
       "      <th>count</th>\n",
       "      <td>67.000000</td>\n",
       "      <td>66.000000</td>\n",
       "    </tr>\n",
       "    <tr>\n",
       "      <th>mean</th>\n",
       "      <td>33.000000</td>\n",
       "      <td>1402.196970</td>\n",
       "    </tr>\n",
       "    <tr>\n",
       "      <th>std</th>\n",
       "      <td>19.485037</td>\n",
       "      <td>576.404058</td>\n",
       "    </tr>\n",
       "    <tr>\n",
       "      <th>min</th>\n",
       "      <td>0.000000</td>\n",
       "      <td>245.000000</td>\n",
       "    </tr>\n",
       "    <tr>\n",
       "      <th>25%</th>\n",
       "      <td>16.500000</td>\n",
       "      <td>1108.750000</td>\n",
       "    </tr>\n",
       "    <tr>\n",
       "      <th>50%</th>\n",
       "      <td>33.000000</td>\n",
       "      <td>1347.500000</td>\n",
       "    </tr>\n",
       "    <tr>\n",
       "      <th>75%</th>\n",
       "      <td>49.500000</td>\n",
       "      <td>2000.000000</td>\n",
       "    </tr>\n",
       "    <tr>\n",
       "      <th>max</th>\n",
       "      <td>66.000000</td>\n",
       "      <td>2105.000000</td>\n",
       "    </tr>\n",
       "  </tbody>\n",
       "</table>\n",
       "</div>"
      ],
      "text/plain": [
       "        StoreKey  Square Meters\n",
       "count  67.000000      66.000000\n",
       "mean   33.000000    1402.196970\n",
       "std    19.485037     576.404058\n",
       "min     0.000000     245.000000\n",
       "25%    16.500000    1108.750000\n",
       "50%    33.000000    1347.500000\n",
       "75%    49.500000    2000.000000\n",
       "max    66.000000    2105.000000"
      ]
     },
     "execution_count": 24,
     "metadata": {},
     "output_type": "execute_result"
    }
   ],
   "source": [
    "d3.describe()"
   ]
  },
  {
   "cell_type": "code",
   "execution_count": 58,
   "id": "30ffbac9-d6de-4c50-9baf-7c79c2a846f0",
   "metadata": {},
   "outputs": [
    {
     "name": "stderr",
     "output_type": "stream",
     "text": [
      "C:\\Users\\ragin\\AppData\\Local\\Temp\\ipykernel_22348\\1187139352.py:1: FutureWarning: A value is trying to be set on a copy of a DataFrame or Series through chained assignment using an inplace method.\n",
      "The behavior will change in pandas 3.0. This inplace method will never work because the intermediate object on which we are setting values always behaves as a copy.\n",
      "\n",
      "For example, when doing 'df[col].method(value, inplace=True)', try using 'df.method({col: value}, inplace=True)' or df[col] = df[col].method(value) instead, to perform the operation inplace on the original object.\n",
      "\n",
      "\n",
      "  d3['Square Meters'].fillna(0, inplace=True)\n"
     ]
    }
   ],
   "source": [
    "d3['Square Meters'].fillna(0, inplace=True)"
   ]
  },
  {
   "cell_type": "code",
   "execution_count": 60,
   "id": "9ab5a0f6-a6e8-4d5b-a64e-96b8e5aafb74",
   "metadata": {},
   "outputs": [
    {
     "name": "stdout",
     "output_type": "stream",
     "text": [
      "<class 'pandas.core.frame.DataFrame'>\n",
      "RangeIndex: 67 entries, 0 to 66\n",
      "Data columns (total 5 columns):\n",
      " #   Column         Non-Null Count  Dtype  \n",
      "---  ------         --------------  -----  \n",
      " 0   StoreKey       67 non-null     int64  \n",
      " 1   Country        67 non-null     object \n",
      " 2   State          67 non-null     object \n",
      " 3   Square Meters  67 non-null     float64\n",
      " 4   Open Date      67 non-null     object \n",
      "dtypes: float64(1), int64(1), object(3)\n",
      "memory usage: 2.7+ KB\n"
     ]
    }
   ],
   "source": [
    "d3.info()"
   ]
  },
  {
   "cell_type": "code",
   "execution_count": 26,
   "id": "2ea69b9b-330c-4f65-9c1c-70fb4a87bfb1",
   "metadata": {},
   "outputs": [
    {
     "data": {
      "text/plain": [
       "(67, 5)"
      ]
     },
     "execution_count": 26,
     "metadata": {},
     "output_type": "execute_result"
    }
   ],
   "source": [
    "d3.shape"
   ]
  },
  {
   "cell_type": "code",
   "execution_count": 27,
   "id": "c248762a-f180-45ce-94eb-e63a16dbae80",
   "metadata": {},
   "outputs": [
    {
     "data": {
      "text/html": [
       "<div>\n",
       "<style scoped>\n",
       "    .dataframe tbody tr th:only-of-type {\n",
       "        vertical-align: middle;\n",
       "    }\n",
       "\n",
       "    .dataframe tbody tr th {\n",
       "        vertical-align: top;\n",
       "    }\n",
       "\n",
       "    .dataframe thead th {\n",
       "        text-align: right;\n",
       "    }\n",
       "</style>\n",
       "<table border=\"1\" class=\"dataframe\">\n",
       "  <thead>\n",
       "    <tr style=\"text-align: right;\">\n",
       "      <th></th>\n",
       "      <th>Country</th>\n",
       "      <th>State</th>\n",
       "      <th>Open Date</th>\n",
       "    </tr>\n",
       "  </thead>\n",
       "  <tbody>\n",
       "    <tr>\n",
       "      <th>count</th>\n",
       "      <td>67</td>\n",
       "      <td>67</td>\n",
       "      <td>67</td>\n",
       "    </tr>\n",
       "    <tr>\n",
       "      <th>unique</th>\n",
       "      <td>9</td>\n",
       "      <td>67</td>\n",
       "      <td>25</td>\n",
       "    </tr>\n",
       "    <tr>\n",
       "      <th>top</th>\n",
       "      <td>United States</td>\n",
       "      <td>Australian Capital Territory</td>\n",
       "      <td>1/1/2010</td>\n",
       "    </tr>\n",
       "    <tr>\n",
       "      <th>freq</th>\n",
       "      <td>24</td>\n",
       "      <td>1</td>\n",
       "      <td>9</td>\n",
       "    </tr>\n",
       "  </tbody>\n",
       "</table>\n",
       "</div>"
      ],
      "text/plain": [
       "              Country                         State Open Date\n",
       "count              67                            67        67\n",
       "unique              9                            67        25\n",
       "top     United States  Australian Capital Territory  1/1/2010\n",
       "freq               24                             1         9"
      ]
     },
     "execution_count": 27,
     "metadata": {},
     "output_type": "execute_result"
    }
   ],
   "source": [
    "d3.describe(include='object')\n"
   ]
  },
  {
   "cell_type": "code",
   "execution_count": null,
   "id": "1d9cde48-ae32-4ce0-90e9-5b5664b672fe",
   "metadata": {},
   "outputs": [],
   "source": []
  },
  {
   "cell_type": "markdown",
   "id": "8a8f992b-3b54-43f1-8ac7-9691b32dd07d",
   "metadata": {},
   "source": [
    "### D -- EXCHANGE RATES DETAILS"
   ]
  },
  {
   "cell_type": "code",
   "execution_count": 30,
   "id": "eb812fe0-b57e-4412-85af-dc4c00d2a278",
   "metadata": {},
   "outputs": [
    {
     "data": {
      "text/html": [
       "<div>\n",
       "<style scoped>\n",
       "    .dataframe tbody tr th:only-of-type {\n",
       "        vertical-align: middle;\n",
       "    }\n",
       "\n",
       "    .dataframe tbody tr th {\n",
       "        vertical-align: top;\n",
       "    }\n",
       "\n",
       "    .dataframe thead th {\n",
       "        text-align: right;\n",
       "    }\n",
       "</style>\n",
       "<table border=\"1\" class=\"dataframe\">\n",
       "  <thead>\n",
       "    <tr style=\"text-align: right;\">\n",
       "      <th></th>\n",
       "      <th>Date</th>\n",
       "      <th>Currency</th>\n",
       "      <th>Exchange</th>\n",
       "    </tr>\n",
       "  </thead>\n",
       "  <tbody>\n",
       "    <tr>\n",
       "      <th>0</th>\n",
       "      <td>1/1/2015</td>\n",
       "      <td>USD</td>\n",
       "      <td>1.0000</td>\n",
       "    </tr>\n",
       "    <tr>\n",
       "      <th>1</th>\n",
       "      <td>1/1/2015</td>\n",
       "      <td>CAD</td>\n",
       "      <td>1.1583</td>\n",
       "    </tr>\n",
       "    <tr>\n",
       "      <th>2</th>\n",
       "      <td>1/1/2015</td>\n",
       "      <td>AUD</td>\n",
       "      <td>1.2214</td>\n",
       "    </tr>\n",
       "    <tr>\n",
       "      <th>3</th>\n",
       "      <td>1/1/2015</td>\n",
       "      <td>EUR</td>\n",
       "      <td>0.8237</td>\n",
       "    </tr>\n",
       "    <tr>\n",
       "      <th>4</th>\n",
       "      <td>1/1/2015</td>\n",
       "      <td>GBP</td>\n",
       "      <td>0.6415</td>\n",
       "    </tr>\n",
       "  </tbody>\n",
       "</table>\n",
       "</div>"
      ],
      "text/plain": [
       "       Date Currency  Exchange\n",
       "0  1/1/2015      USD    1.0000\n",
       "1  1/1/2015      CAD    1.1583\n",
       "2  1/1/2015      AUD    1.2214\n",
       "3  1/1/2015      EUR    0.8237\n",
       "4  1/1/2015      GBP    0.6415"
      ]
     },
     "execution_count": 30,
     "metadata": {},
     "output_type": "execute_result"
    }
   ],
   "source": [
    "d.head()"
   ]
  },
  {
   "cell_type": "code",
   "execution_count": 31,
   "id": "3f7eea36-78bb-4261-aafa-3b7550989d53",
   "metadata": {},
   "outputs": [
    {
     "data": {
      "text/plain": [
       "(11215, 3)"
      ]
     },
     "execution_count": 31,
     "metadata": {},
     "output_type": "execute_result"
    }
   ],
   "source": [
    "d.shape"
   ]
  },
  {
   "cell_type": "code",
   "execution_count": 32,
   "id": "c07873ab-4766-4639-bf30-2cfb8ae6c248",
   "metadata": {},
   "outputs": [
    {
     "name": "stdout",
     "output_type": "stream",
     "text": [
      "<class 'pandas.core.frame.DataFrame'>\n",
      "RangeIndex: 11215 entries, 0 to 11214\n",
      "Data columns (total 3 columns):\n",
      " #   Column    Non-Null Count  Dtype  \n",
      "---  ------    --------------  -----  \n",
      " 0   Date      11215 non-null  object \n",
      " 1   Currency  11215 non-null  object \n",
      " 2   Exchange  11215 non-null  float64\n",
      "dtypes: float64(1), object(2)\n",
      "memory usage: 263.0+ KB\n"
     ]
    }
   ],
   "source": [
    "d.info()"
   ]
  },
  {
   "cell_type": "markdown",
   "id": "a1ed06c9-46e8-4610-9d61-79ed036ad62b",
   "metadata": {},
   "source": [
    "### D1 -- SALES DETAILS"
   ]
  },
  {
   "cell_type": "code",
   "execution_count": 35,
   "id": "35f7bc7e-349a-417d-a046-60653cdbe333",
   "metadata": {},
   "outputs": [
    {
     "data": {
      "text/html": [
       "<div>\n",
       "<style scoped>\n",
       "    .dataframe tbody tr th:only-of-type {\n",
       "        vertical-align: middle;\n",
       "    }\n",
       "\n",
       "    .dataframe tbody tr th {\n",
       "        vertical-align: top;\n",
       "    }\n",
       "\n",
       "    .dataframe thead th {\n",
       "        text-align: right;\n",
       "    }\n",
       "</style>\n",
       "<table border=\"1\" class=\"dataframe\">\n",
       "  <thead>\n",
       "    <tr style=\"text-align: right;\">\n",
       "      <th></th>\n",
       "      <th>Order Number</th>\n",
       "      <th>Line Item</th>\n",
       "      <th>Order Date</th>\n",
       "      <th>Delivery Date</th>\n",
       "      <th>CustomerKey</th>\n",
       "      <th>StoreKey</th>\n",
       "      <th>ProductKey</th>\n",
       "      <th>Quantity</th>\n",
       "      <th>Currency Code</th>\n",
       "    </tr>\n",
       "  </thead>\n",
       "  <tbody>\n",
       "    <tr>\n",
       "      <th>0</th>\n",
       "      <td>366000</td>\n",
       "      <td>1</td>\n",
       "      <td>1/1/2016</td>\n",
       "      <td>NaN</td>\n",
       "      <td>265598</td>\n",
       "      <td>10</td>\n",
       "      <td>1304</td>\n",
       "      <td>1</td>\n",
       "      <td>CAD</td>\n",
       "    </tr>\n",
       "    <tr>\n",
       "      <th>1</th>\n",
       "      <td>366001</td>\n",
       "      <td>1</td>\n",
       "      <td>1/1/2016</td>\n",
       "      <td>1/13/2016</td>\n",
       "      <td>1269051</td>\n",
       "      <td>0</td>\n",
       "      <td>1048</td>\n",
       "      <td>2</td>\n",
       "      <td>USD</td>\n",
       "    </tr>\n",
       "    <tr>\n",
       "      <th>2</th>\n",
       "      <td>366001</td>\n",
       "      <td>2</td>\n",
       "      <td>1/1/2016</td>\n",
       "      <td>1/13/2016</td>\n",
       "      <td>1269051</td>\n",
       "      <td>0</td>\n",
       "      <td>2007</td>\n",
       "      <td>1</td>\n",
       "      <td>USD</td>\n",
       "    </tr>\n",
       "    <tr>\n",
       "      <th>3</th>\n",
       "      <td>366002</td>\n",
       "      <td>1</td>\n",
       "      <td>1/1/2016</td>\n",
       "      <td>1/12/2016</td>\n",
       "      <td>266019</td>\n",
       "      <td>0</td>\n",
       "      <td>1106</td>\n",
       "      <td>7</td>\n",
       "      <td>CAD</td>\n",
       "    </tr>\n",
       "    <tr>\n",
       "      <th>4</th>\n",
       "      <td>366002</td>\n",
       "      <td>2</td>\n",
       "      <td>1/1/2016</td>\n",
       "      <td>1/12/2016</td>\n",
       "      <td>266019</td>\n",
       "      <td>0</td>\n",
       "      <td>373</td>\n",
       "      <td>1</td>\n",
       "      <td>CAD</td>\n",
       "    </tr>\n",
       "  </tbody>\n",
       "</table>\n",
       "</div>"
      ],
      "text/plain": [
       "   Order Number  Line Item Order Date Delivery Date  CustomerKey  StoreKey  \\\n",
       "0        366000          1   1/1/2016           NaN       265598        10   \n",
       "1        366001          1   1/1/2016     1/13/2016      1269051         0   \n",
       "2        366001          2   1/1/2016     1/13/2016      1269051         0   \n",
       "3        366002          1   1/1/2016     1/12/2016       266019         0   \n",
       "4        366002          2   1/1/2016     1/12/2016       266019         0   \n",
       "\n",
       "   ProductKey  Quantity Currency Code  \n",
       "0        1304         1           CAD  \n",
       "1        1048         2           USD  \n",
       "2        2007         1           USD  \n",
       "3        1106         7           CAD  \n",
       "4         373         1           CAD  "
      ]
     },
     "execution_count": 35,
     "metadata": {},
     "output_type": "execute_result"
    }
   ],
   "source": [
    "d1.head()"
   ]
  },
  {
   "cell_type": "code",
   "execution_count": 36,
   "id": "b8278204-cc53-4209-9c45-02d3326e4e1a",
   "metadata": {},
   "outputs": [
    {
     "name": "stdout",
     "output_type": "stream",
     "text": [
      "<class 'pandas.core.frame.DataFrame'>\n",
      "RangeIndex: 62884 entries, 0 to 62883\n",
      "Data columns (total 9 columns):\n",
      " #   Column         Non-Null Count  Dtype \n",
      "---  ------         --------------  ----- \n",
      " 0   Order Number   62884 non-null  int64 \n",
      " 1   Line Item      62884 non-null  int64 \n",
      " 2   Order Date     62884 non-null  object\n",
      " 3   Delivery Date  13165 non-null  object\n",
      " 4   CustomerKey    62884 non-null  int64 \n",
      " 5   StoreKey       62884 non-null  int64 \n",
      " 6   ProductKey     62884 non-null  int64 \n",
      " 7   Quantity       62884 non-null  int64 \n",
      " 8   Currency Code  62884 non-null  object\n",
      "dtypes: int64(6), object(3)\n",
      "memory usage: 4.3+ MB\n"
     ]
    }
   ],
   "source": [
    "d1.info()"
   ]
  },
  {
   "cell_type": "code",
   "execution_count": null,
   "id": "8d08f128-c28f-4ffb-a11f-467deb6d180e",
   "metadata": {},
   "outputs": [],
   "source": []
  },
  {
   "cell_type": "code",
   "execution_count": 37,
   "id": "77d234b8-5d9e-497a-bd10-261cefb3b0cb",
   "metadata": {},
   "outputs": [
    {
     "data": {
      "text/plain": [
       "(62884, 9)"
      ]
     },
     "execution_count": 37,
     "metadata": {},
     "output_type": "execute_result"
    }
   ],
   "source": [
    "d1.shape"
   ]
  },
  {
   "cell_type": "code",
   "execution_count": 38,
   "id": "c8a5b0bc-f9ce-410e-81f1-af4425dcdb1b",
   "metadata": {},
   "outputs": [
    {
     "data": {
      "text/plain": [
       "Order Number         0\n",
       "Line Item            0\n",
       "Order Date           0\n",
       "Delivery Date    49719\n",
       "CustomerKey          0\n",
       "StoreKey             0\n",
       "ProductKey           0\n",
       "Quantity             0\n",
       "Currency Code        0\n",
       "dtype: int64"
      ]
     },
     "execution_count": 38,
     "metadata": {},
     "output_type": "execute_result"
    }
   ],
   "source": [
    "d1.isnull().sum()"
   ]
  },
  {
   "cell_type": "markdown",
   "id": "e4049f97-4e90-46b2-8eaa-145893927b87",
   "metadata": {},
   "source": [
    "### DROP DELIVERY DATE "
   ]
  },
  {
   "cell_type": "code",
   "execution_count": 40,
   "id": "d2b1340f-4c7b-4712-b79c-7deceb2a6618",
   "metadata": {},
   "outputs": [],
   "source": [
    "d1.dropna(subset=['Delivery Date'], inplace=True)\n"
   ]
  },
  {
   "cell_type": "code",
   "execution_count": 41,
   "id": "bf86dcad-b0cd-4410-bb57-798c1134a798",
   "metadata": {},
   "outputs": [
    {
     "data": {
      "text/plain": [
       "Order Number     0\n",
       "Line Item        0\n",
       "Order Date       0\n",
       "Delivery Date    0\n",
       "CustomerKey      0\n",
       "StoreKey         0\n",
       "ProductKey       0\n",
       "Quantity         0\n",
       "Currency Code    0\n",
       "dtype: int64"
      ]
     },
     "execution_count": 41,
     "metadata": {},
     "output_type": "execute_result"
    }
   ],
   "source": [
    "d1.isnull().sum()"
   ]
  },
  {
   "cell_type": "code",
   "execution_count": 42,
   "id": "ce3049e1-d712-4687-8ec4-4ae16194fbc1",
   "metadata": {},
   "outputs": [
    {
     "data": {
      "text/html": [
       "<div>\n",
       "<style scoped>\n",
       "    .dataframe tbody tr th:only-of-type {\n",
       "        vertical-align: middle;\n",
       "    }\n",
       "\n",
       "    .dataframe tbody tr th {\n",
       "        vertical-align: top;\n",
       "    }\n",
       "\n",
       "    .dataframe thead th {\n",
       "        text-align: right;\n",
       "    }\n",
       "</style>\n",
       "<table border=\"1\" class=\"dataframe\">\n",
       "  <thead>\n",
       "    <tr style=\"text-align: right;\">\n",
       "      <th></th>\n",
       "      <th>Order Number</th>\n",
       "      <th>Line Item</th>\n",
       "      <th>Order Date</th>\n",
       "      <th>Delivery Date</th>\n",
       "      <th>CustomerKey</th>\n",
       "      <th>StoreKey</th>\n",
       "      <th>ProductKey</th>\n",
       "      <th>Quantity</th>\n",
       "      <th>Currency Code</th>\n",
       "    </tr>\n",
       "  </thead>\n",
       "  <tbody>\n",
       "    <tr>\n",
       "      <th>1</th>\n",
       "      <td>366001</td>\n",
       "      <td>1</td>\n",
       "      <td>1/1/2016</td>\n",
       "      <td>1/13/2016</td>\n",
       "      <td>1269051</td>\n",
       "      <td>0</td>\n",
       "      <td>1048</td>\n",
       "      <td>2</td>\n",
       "      <td>USD</td>\n",
       "    </tr>\n",
       "    <tr>\n",
       "      <th>2</th>\n",
       "      <td>366001</td>\n",
       "      <td>2</td>\n",
       "      <td>1/1/2016</td>\n",
       "      <td>1/13/2016</td>\n",
       "      <td>1269051</td>\n",
       "      <td>0</td>\n",
       "      <td>2007</td>\n",
       "      <td>1</td>\n",
       "      <td>USD</td>\n",
       "    </tr>\n",
       "    <tr>\n",
       "      <th>3</th>\n",
       "      <td>366002</td>\n",
       "      <td>1</td>\n",
       "      <td>1/1/2016</td>\n",
       "      <td>1/12/2016</td>\n",
       "      <td>266019</td>\n",
       "      <td>0</td>\n",
       "      <td>1106</td>\n",
       "      <td>7</td>\n",
       "      <td>CAD</td>\n",
       "    </tr>\n",
       "    <tr>\n",
       "      <th>4</th>\n",
       "      <td>366002</td>\n",
       "      <td>2</td>\n",
       "      <td>1/1/2016</td>\n",
       "      <td>1/12/2016</td>\n",
       "      <td>266019</td>\n",
       "      <td>0</td>\n",
       "      <td>373</td>\n",
       "      <td>1</td>\n",
       "      <td>CAD</td>\n",
       "    </tr>\n",
       "    <tr>\n",
       "      <th>5</th>\n",
       "      <td>366002</td>\n",
       "      <td>3</td>\n",
       "      <td>1/1/2016</td>\n",
       "      <td>1/12/2016</td>\n",
       "      <td>266019</td>\n",
       "      <td>0</td>\n",
       "      <td>1080</td>\n",
       "      <td>4</td>\n",
       "      <td>CAD</td>\n",
       "    </tr>\n",
       "  </tbody>\n",
       "</table>\n",
       "</div>"
      ],
      "text/plain": [
       "   Order Number  Line Item Order Date Delivery Date  CustomerKey  StoreKey  \\\n",
       "1        366001          1   1/1/2016     1/13/2016      1269051         0   \n",
       "2        366001          2   1/1/2016     1/13/2016      1269051         0   \n",
       "3        366002          1   1/1/2016     1/12/2016       266019         0   \n",
       "4        366002          2   1/1/2016     1/12/2016       266019         0   \n",
       "5        366002          3   1/1/2016     1/12/2016       266019         0   \n",
       "\n",
       "   ProductKey  Quantity Currency Code  \n",
       "1        1048         2           USD  \n",
       "2        2007         1           USD  \n",
       "3        1106         7           CAD  \n",
       "4         373         1           CAD  \n",
       "5        1080         4           CAD  "
      ]
     },
     "execution_count": 42,
     "metadata": {},
     "output_type": "execute_result"
    }
   ],
   "source": [
    "d1.head()"
   ]
  },
  {
   "cell_type": "code",
   "execution_count": 43,
   "id": "ec724b21-00ab-461b-9429-1c781401a186",
   "metadata": {},
   "outputs": [
    {
     "data": {
      "text/plain": [
       "Order Number     0\n",
       "Line Item        0\n",
       "Order Date       0\n",
       "Delivery Date    0\n",
       "CustomerKey      0\n",
       "StoreKey         0\n",
       "ProductKey       0\n",
       "Quantity         0\n",
       "Currency Code    0\n",
       "dtype: int64"
      ]
     },
     "execution_count": 43,
     "metadata": {},
     "output_type": "execute_result"
    }
   ],
   "source": [
    "d1.isnull().sum()"
   ]
  },
  {
   "cell_type": "code",
   "execution_count": 44,
   "id": "ddfc6f3f-0d11-4540-9224-e6b3faa48e4b",
   "metadata": {},
   "outputs": [
    {
     "data": {
      "text/plain": [
       "Order Number      int64\n",
       "Line Item         int64\n",
       "Order Date       object\n",
       "Delivery Date    object\n",
       "CustomerKey       int64\n",
       "StoreKey          int64\n",
       "ProductKey        int64\n",
       "Quantity          int64\n",
       "Currency Code    object\n",
       "dtype: object"
      ]
     },
     "execution_count": 44,
     "metadata": {},
     "output_type": "execute_result"
    }
   ],
   "source": [
    "d1.dtypes"
   ]
  },
  {
   "cell_type": "markdown",
   "id": "4152e98d-92b1-45ae-95bf-338868c202d8",
   "metadata": {},
   "source": [
    "### D2 -- PRODUCTS DETAILS  "
   ]
  },
  {
   "cell_type": "code",
   "execution_count": 47,
   "id": "ef7616ab-8d0c-424a-860e-7552eab0726c",
   "metadata": {},
   "outputs": [
    {
     "data": {
      "text/html": [
       "<div>\n",
       "<style scoped>\n",
       "    .dataframe tbody tr th:only-of-type {\n",
       "        vertical-align: middle;\n",
       "    }\n",
       "\n",
       "    .dataframe tbody tr th {\n",
       "        vertical-align: top;\n",
       "    }\n",
       "\n",
       "    .dataframe thead th {\n",
       "        text-align: right;\n",
       "    }\n",
       "</style>\n",
       "<table border=\"1\" class=\"dataframe\">\n",
       "  <thead>\n",
       "    <tr style=\"text-align: right;\">\n",
       "      <th></th>\n",
       "      <th>ProductKey</th>\n",
       "      <th>Product Name</th>\n",
       "      <th>Brand</th>\n",
       "      <th>Color</th>\n",
       "      <th>Unit Cost USD</th>\n",
       "      <th>Unit Price USD</th>\n",
       "      <th>SubcategoryKey</th>\n",
       "      <th>Subcategory</th>\n",
       "      <th>CategoryKey</th>\n",
       "      <th>Category</th>\n",
       "    </tr>\n",
       "  </thead>\n",
       "  <tbody>\n",
       "    <tr>\n",
       "      <th>0</th>\n",
       "      <td>1</td>\n",
       "      <td>Contoso 512MB MP3 Player E51 Silver</td>\n",
       "      <td>Contoso</td>\n",
       "      <td>Silver</td>\n",
       "      <td>$6.62</td>\n",
       "      <td>$12.99</td>\n",
       "      <td>101</td>\n",
       "      <td>MP4&amp;MP3</td>\n",
       "      <td>1</td>\n",
       "      <td>Audio</td>\n",
       "    </tr>\n",
       "    <tr>\n",
       "      <th>1</th>\n",
       "      <td>2</td>\n",
       "      <td>Contoso 512MB MP3 Player E51 Blue</td>\n",
       "      <td>Contoso</td>\n",
       "      <td>Blue</td>\n",
       "      <td>$6.62</td>\n",
       "      <td>$12.99</td>\n",
       "      <td>101</td>\n",
       "      <td>MP4&amp;MP3</td>\n",
       "      <td>1</td>\n",
       "      <td>Audio</td>\n",
       "    </tr>\n",
       "    <tr>\n",
       "      <th>2</th>\n",
       "      <td>3</td>\n",
       "      <td>Contoso 1G MP3 Player E100 White</td>\n",
       "      <td>Contoso</td>\n",
       "      <td>White</td>\n",
       "      <td>$7.40</td>\n",
       "      <td>$14.52</td>\n",
       "      <td>101</td>\n",
       "      <td>MP4&amp;MP3</td>\n",
       "      <td>1</td>\n",
       "      <td>Audio</td>\n",
       "    </tr>\n",
       "    <tr>\n",
       "      <th>3</th>\n",
       "      <td>4</td>\n",
       "      <td>Contoso 2G MP3 Player E200 Silver</td>\n",
       "      <td>Contoso</td>\n",
       "      <td>Silver</td>\n",
       "      <td>$11.00</td>\n",
       "      <td>$21.57</td>\n",
       "      <td>101</td>\n",
       "      <td>MP4&amp;MP3</td>\n",
       "      <td>1</td>\n",
       "      <td>Audio</td>\n",
       "    </tr>\n",
       "    <tr>\n",
       "      <th>4</th>\n",
       "      <td>5</td>\n",
       "      <td>Contoso 2G MP3 Player E200 Red</td>\n",
       "      <td>Contoso</td>\n",
       "      <td>Red</td>\n",
       "      <td>$11.00</td>\n",
       "      <td>$21.57</td>\n",
       "      <td>101</td>\n",
       "      <td>MP4&amp;MP3</td>\n",
       "      <td>1</td>\n",
       "      <td>Audio</td>\n",
       "    </tr>\n",
       "  </tbody>\n",
       "</table>\n",
       "</div>"
      ],
      "text/plain": [
       "   ProductKey                         Product Name    Brand   Color  \\\n",
       "0           1  Contoso 512MB MP3 Player E51 Silver  Contoso  Silver   \n",
       "1           2    Contoso 512MB MP3 Player E51 Blue  Contoso    Blue   \n",
       "2           3     Contoso 1G MP3 Player E100 White  Contoso   White   \n",
       "3           4    Contoso 2G MP3 Player E200 Silver  Contoso  Silver   \n",
       "4           5       Contoso 2G MP3 Player E200 Red  Contoso     Red   \n",
       "\n",
       "  Unit Cost USD Unit Price USD  SubcategoryKey Subcategory  CategoryKey  \\\n",
       "0        $6.62         $12.99              101     MP4&MP3            1   \n",
       "1        $6.62         $12.99              101     MP4&MP3            1   \n",
       "2        $7.40         $14.52              101     MP4&MP3            1   \n",
       "3       $11.00         $21.57              101     MP4&MP3            1   \n",
       "4       $11.00         $21.57              101     MP4&MP3            1   \n",
       "\n",
       "  Category  \n",
       "0    Audio  \n",
       "1    Audio  \n",
       "2    Audio  \n",
       "3    Audio  \n",
       "4    Audio  "
      ]
     },
     "execution_count": 47,
     "metadata": {},
     "output_type": "execute_result"
    }
   ],
   "source": [
    "d2.head()"
   ]
  },
  {
   "cell_type": "code",
   "execution_count": 48,
   "id": "cb4909f8-6792-499f-8c18-9e54289494ab",
   "metadata": {},
   "outputs": [
    {
     "name": "stdout",
     "output_type": "stream",
     "text": [
      "<class 'pandas.core.frame.DataFrame'>\n",
      "RangeIndex: 2517 entries, 0 to 2516\n",
      "Data columns (total 10 columns):\n",
      " #   Column          Non-Null Count  Dtype \n",
      "---  ------          --------------  ----- \n",
      " 0   ProductKey      2517 non-null   int64 \n",
      " 1   Product Name    2517 non-null   object\n",
      " 2   Brand           2517 non-null   object\n",
      " 3   Color           2517 non-null   object\n",
      " 4   Unit Cost USD   2517 non-null   object\n",
      " 5   Unit Price USD  2517 non-null   object\n",
      " 6   SubcategoryKey  2517 non-null   int64 \n",
      " 7   Subcategory     2517 non-null   object\n",
      " 8   CategoryKey     2517 non-null   int64 \n",
      " 9   Category        2517 non-null   object\n",
      "dtypes: int64(3), object(7)\n",
      "memory usage: 196.8+ KB\n"
     ]
    }
   ],
   "source": [
    "d2.info()"
   ]
  },
  {
   "cell_type": "code",
   "execution_count": 49,
   "id": "a3b6c1ec-1d92-4943-a256-5b832e2ffb74",
   "metadata": {},
   "outputs": [],
   "source": [
    "d2['Unit Cost USD'] = d2['Unit Cost USD'].str.replace('$', '').str.replace(',', '').str.strip()\n",
    "d2['Unit Price USD'] = d2['Unit Price USD'].str.replace('$', '').str.replace(',', '').str.strip()\n",
    "\n",
    "\n",
    "\n",
    "d2['Unit Cost USD'] = d2['Unit Cost USD'].astype(float)\n",
    "d2['Unit Price USD'] = d2['Unit Price USD'].astype(float)"
   ]
  },
  {
   "cell_type": "code",
   "execution_count": 50,
   "id": "968b659d-cfcb-4a09-81ff-5b22460e8252",
   "metadata": {},
   "outputs": [
    {
     "data": {
      "text/plain": [
       "(2517, 10)"
      ]
     },
     "execution_count": 50,
     "metadata": {},
     "output_type": "execute_result"
    }
   ],
   "source": [
    "d2.shape"
   ]
  },
  {
   "cell_type": "code",
   "execution_count": 51,
   "id": "2ead95be-549a-41f9-8bdd-be511e2d25d9",
   "metadata": {},
   "outputs": [
    {
     "name": "stdout",
     "output_type": "stream",
     "text": [
      "<class 'pandas.core.frame.DataFrame'>\n",
      "RangeIndex: 2517 entries, 0 to 2516\n",
      "Data columns (total 10 columns):\n",
      " #   Column          Non-Null Count  Dtype  \n",
      "---  ------          --------------  -----  \n",
      " 0   ProductKey      2517 non-null   int64  \n",
      " 1   Product Name    2517 non-null   object \n",
      " 2   Brand           2517 non-null   object \n",
      " 3   Color           2517 non-null   object \n",
      " 4   Unit Cost USD   2517 non-null   float64\n",
      " 5   Unit Price USD  2517 non-null   float64\n",
      " 6   SubcategoryKey  2517 non-null   int64  \n",
      " 7   Subcategory     2517 non-null   object \n",
      " 8   CategoryKey     2517 non-null   int64  \n",
      " 9   Category        2517 non-null   object \n",
      "dtypes: float64(2), int64(3), object(5)\n",
      "memory usage: 196.8+ KB\n"
     ]
    }
   ],
   "source": [
    "d2.info()"
   ]
  },
  {
   "cell_type": "code",
   "execution_count": 52,
   "id": "f257f48a-b3f7-4509-b8b0-f9f8edf7eaaf",
   "metadata": {},
   "outputs": [
    {
     "data": {
      "text/plain": [
       "ProductKey        0\n",
       "Product Name      0\n",
       "Brand             0\n",
       "Color             0\n",
       "Unit Cost USD     0\n",
       "Unit Price USD    0\n",
       "SubcategoryKey    0\n",
       "Subcategory       0\n",
       "CategoryKey       0\n",
       "Category          0\n",
       "dtype: int64"
      ]
     },
     "execution_count": 52,
     "metadata": {},
     "output_type": "execute_result"
    }
   ],
   "source": [
    "d2.isnull().sum()"
   ]
  },
  {
   "cell_type": "code",
   "execution_count": 90,
   "id": "3c35d606-7d0f-454e-ac45-25d73a8f8fdd",
   "metadata": {},
   "outputs": [
    {
     "name": "stdout",
     "output_type": "stream",
     "text": [
      "After merging df and df2: (13165, 18)\n",
      "After merging with df1: (13165, 27)\n",
      "After merging with df3: (13165, 31)\n",
      "After merging with df4: (65825, 34)\n"
     ]
    }
   ],
   "source": [
    "merged_data = pd.merge(d1, d4, on='CustomerKey', how='inner') # d1=sales,d4=customers\n",
    "print(\"After merging df and df2:\", merged_data.shape)\n",
    "\n",
    "# Merge with d2\n",
    "if not merged_data.empty:\n",
    "    merged_data = pd.merge(merged_data, d2, on='ProductKey', how='inner') # d2=product\n",
    "    print(\"After merging with df1:\", merged_data.shape)\n",
    "\n",
    "# Merge with d3\n",
    "if not merged_data.empty:\n",
    "    merged_data = pd.merge(merged_data, d3, on='StoreKey', how='inner') # d3=store\n",
    "    print(\"After merging with df3:\", merged_data.shape)\n",
    "\n",
    "# Merge with d\n",
    "if not merged_data.empty:\n",
    "    merged_data = pd.merge(merged_data, d, left_on='Order Date', right_on='Date', how='inner')\n",
    "    print(\"After merging with df4:\", merged_data.shape)"
   ]
  },
  {
   "cell_type": "code",
   "execution_count": 102,
   "id": "d7a3cf96-e4f7-4e4d-9b74-4812142287d5",
   "metadata": {},
   "outputs": [
    {
     "data": {
      "text/html": [
       "<div>\n",
       "<style scoped>\n",
       "    .dataframe tbody tr th:only-of-type {\n",
       "        vertical-align: middle;\n",
       "    }\n",
       "\n",
       "    .dataframe tbody tr th {\n",
       "        vertical-align: top;\n",
       "    }\n",
       "\n",
       "    .dataframe thead th {\n",
       "        text-align: right;\n",
       "    }\n",
       "</style>\n",
       "<table border=\"1\" class=\"dataframe\">\n",
       "  <thead>\n",
       "    <tr style=\"text-align: right;\">\n",
       "      <th></th>\n",
       "      <th>Order Number</th>\n",
       "      <th>Line Item</th>\n",
       "      <th>Order Date</th>\n",
       "      <th>Delivery Date</th>\n",
       "      <th>CustomerKey</th>\n",
       "      <th>StoreKey</th>\n",
       "      <th>ProductKey</th>\n",
       "      <th>Quantity</th>\n",
       "      <th>Currency Code</th>\n",
       "      <th>Gender</th>\n",
       "      <th>...</th>\n",
       "      <th>Unit Cost USD</th>\n",
       "      <th>Unit Price USD</th>\n",
       "      <th>SubcategoryKey</th>\n",
       "      <th>Subcategory</th>\n",
       "      <th>CategoryKey</th>\n",
       "      <th>Category</th>\n",
       "      <th>Square Meters</th>\n",
       "      <th>Open Date</th>\n",
       "      <th>Currency</th>\n",
       "      <th>Exchange</th>\n",
       "    </tr>\n",
       "  </thead>\n",
       "  <tbody>\n",
       "    <tr>\n",
       "      <th>0</th>\n",
       "      <td>366001</td>\n",
       "      <td>1</td>\n",
       "      <td>1/1/2016</td>\n",
       "      <td>1/13/2016</td>\n",
       "      <td>1269051</td>\n",
       "      <td>0</td>\n",
       "      <td>1048</td>\n",
       "      <td>2</td>\n",
       "      <td>USD</td>\n",
       "      <td>Male</td>\n",
       "      <td>...</td>\n",
       "      <td>141.47</td>\n",
       "      <td>427.0</td>\n",
       "      <td>402</td>\n",
       "      <td>Digital SLR Cameras</td>\n",
       "      <td>4</td>\n",
       "      <td>Cameras and camcorders</td>\n",
       "      <td>0.0</td>\n",
       "      <td>1/1/2010</td>\n",
       "      <td>USD</td>\n",
       "      <td>1.0000</td>\n",
       "    </tr>\n",
       "    <tr>\n",
       "      <th>1</th>\n",
       "      <td>366001</td>\n",
       "      <td>1</td>\n",
       "      <td>1/1/2016</td>\n",
       "      <td>1/13/2016</td>\n",
       "      <td>1269051</td>\n",
       "      <td>0</td>\n",
       "      <td>1048</td>\n",
       "      <td>2</td>\n",
       "      <td>USD</td>\n",
       "      <td>Male</td>\n",
       "      <td>...</td>\n",
       "      <td>141.47</td>\n",
       "      <td>427.0</td>\n",
       "      <td>402</td>\n",
       "      <td>Digital SLR Cameras</td>\n",
       "      <td>4</td>\n",
       "      <td>Cameras and camcorders</td>\n",
       "      <td>0.0</td>\n",
       "      <td>1/1/2010</td>\n",
       "      <td>CAD</td>\n",
       "      <td>1.3884</td>\n",
       "    </tr>\n",
       "    <tr>\n",
       "      <th>2</th>\n",
       "      <td>366001</td>\n",
       "      <td>1</td>\n",
       "      <td>1/1/2016</td>\n",
       "      <td>1/13/2016</td>\n",
       "      <td>1269051</td>\n",
       "      <td>0</td>\n",
       "      <td>1048</td>\n",
       "      <td>2</td>\n",
       "      <td>USD</td>\n",
       "      <td>Male</td>\n",
       "      <td>...</td>\n",
       "      <td>141.47</td>\n",
       "      <td>427.0</td>\n",
       "      <td>402</td>\n",
       "      <td>Digital SLR Cameras</td>\n",
       "      <td>4</td>\n",
       "      <td>Cameras and camcorders</td>\n",
       "      <td>0.0</td>\n",
       "      <td>1/1/2010</td>\n",
       "      <td>AUD</td>\n",
       "      <td>1.3683</td>\n",
       "    </tr>\n",
       "    <tr>\n",
       "      <th>3</th>\n",
       "      <td>366001</td>\n",
       "      <td>1</td>\n",
       "      <td>1/1/2016</td>\n",
       "      <td>1/13/2016</td>\n",
       "      <td>1269051</td>\n",
       "      <td>0</td>\n",
       "      <td>1048</td>\n",
       "      <td>2</td>\n",
       "      <td>USD</td>\n",
       "      <td>Male</td>\n",
       "      <td>...</td>\n",
       "      <td>141.47</td>\n",
       "      <td>427.0</td>\n",
       "      <td>402</td>\n",
       "      <td>Digital SLR Cameras</td>\n",
       "      <td>4</td>\n",
       "      <td>Cameras and camcorders</td>\n",
       "      <td>0.0</td>\n",
       "      <td>1/1/2010</td>\n",
       "      <td>EUR</td>\n",
       "      <td>0.9185</td>\n",
       "    </tr>\n",
       "    <tr>\n",
       "      <th>4</th>\n",
       "      <td>366001</td>\n",
       "      <td>1</td>\n",
       "      <td>1/1/2016</td>\n",
       "      <td>1/13/2016</td>\n",
       "      <td>1269051</td>\n",
       "      <td>0</td>\n",
       "      <td>1048</td>\n",
       "      <td>2</td>\n",
       "      <td>USD</td>\n",
       "      <td>Male</td>\n",
       "      <td>...</td>\n",
       "      <td>141.47</td>\n",
       "      <td>427.0</td>\n",
       "      <td>402</td>\n",
       "      <td>Digital SLR Cameras</td>\n",
       "      <td>4</td>\n",
       "      <td>Cameras and camcorders</td>\n",
       "      <td>0.0</td>\n",
       "      <td>1/1/2010</td>\n",
       "      <td>GBP</td>\n",
       "      <td>0.6742</td>\n",
       "    </tr>\n",
       "  </tbody>\n",
       "</table>\n",
       "<p>5 rows × 31 columns</p>\n",
       "</div>"
      ],
      "text/plain": [
       "   Order Number  Line Item Order Date Delivery Date  CustomerKey  StoreKey  \\\n",
       "0        366001          1   1/1/2016     1/13/2016      1269051         0   \n",
       "1        366001          1   1/1/2016     1/13/2016      1269051         0   \n",
       "2        366001          1   1/1/2016     1/13/2016      1269051         0   \n",
       "3        366001          1   1/1/2016     1/13/2016      1269051         0   \n",
       "4        366001          1   1/1/2016     1/13/2016      1269051         0   \n",
       "\n",
       "   ProductKey  Quantity Currency Code Gender  ... Unit Cost USD  \\\n",
       "0        1048         2           USD   Male  ...        141.47   \n",
       "1        1048         2           USD   Male  ...        141.47   \n",
       "2        1048         2           USD   Male  ...        141.47   \n",
       "3        1048         2           USD   Male  ...        141.47   \n",
       "4        1048         2           USD   Male  ...        141.47   \n",
       "\n",
       "  Unit Price USD SubcategoryKey          Subcategory CategoryKey  \\\n",
       "0          427.0            402  Digital SLR Cameras           4   \n",
       "1          427.0            402  Digital SLR Cameras           4   \n",
       "2          427.0            402  Digital SLR Cameras           4   \n",
       "3          427.0            402  Digital SLR Cameras           4   \n",
       "4          427.0            402  Digital SLR Cameras           4   \n",
       "\n",
       "                 Category Square Meters Open Date Currency Exchange  \n",
       "0  Cameras and camcorders           0.0  1/1/2010      USD   1.0000  \n",
       "1  Cameras and camcorders           0.0  1/1/2010      CAD   1.3884  \n",
       "2  Cameras and camcorders           0.0  1/1/2010      AUD   1.3683  \n",
       "3  Cameras and camcorders           0.0  1/1/2010      EUR   0.9185  \n",
       "4  Cameras and camcorders           0.0  1/1/2010      GBP   0.6742  \n",
       "\n",
       "[5 rows x 31 columns]"
      ]
     },
     "execution_count": 102,
     "metadata": {},
     "output_type": "execute_result"
    }
   ],
   "source": [
    "merged_data.head()"
   ]
  },
  {
   "cell_type": "code",
   "execution_count": 94,
   "id": "05e1be8f-d33c-4c8f-ba42-67748d13f296",
   "metadata": {},
   "outputs": [],
   "source": [
    "merged_data.drop(columns=['State_y', 'Country_y', 'Date'], inplace=True)\n"
   ]
  },
  {
   "cell_type": "code",
   "execution_count": 96,
   "id": "8eda14b8-7791-432b-ab15-cd6e4398bd6c",
   "metadata": {},
   "outputs": [],
   "source": [
    "merged_data.rename(columns={'State_x': 'State', 'Country_x': 'Country'}, inplace=True)\n"
   ]
  },
  {
   "cell_type": "code",
   "execution_count": 106,
   "id": "547f63d6-99ce-4fec-84b7-ef7235af4b00",
   "metadata": {},
   "outputs": [
    {
     "data": {
      "text/plain": [
       "Index(['Order Number', 'Line Item', 'Order Date', 'Delivery Date',\n",
       "       'CustomerKey', 'StoreKey', 'ProductKey', 'Quantity', 'Currency Code',\n",
       "       'Gender', 'Name', 'City', 'State Code', 'State', 'Zip Code', 'Country',\n",
       "       'Continent', 'Birthday', 'Product Name', 'Brand', 'Color',\n",
       "       'Unit Cost USD', 'Unit Price USD', 'SubcategoryKey', 'Subcategory',\n",
       "       'CategoryKey', 'Category', 'Square Meters', 'Open Date', 'Currency',\n",
       "       'Exchange'],\n",
       "      dtype='object')"
      ]
     },
     "execution_count": 106,
     "metadata": {},
     "output_type": "execute_result"
    }
   ],
   "source": [
    "merged_data.columns\n"
   ]
  },
  {
   "cell_type": "code",
   "execution_count": 108,
   "id": "08d76f68-ca3e-4413-b956-f9c3315e4c84",
   "metadata": {},
   "outputs": [],
   "source": [
    "data = merged_data.to_csv(\"dataspark.csv\" , index = False)"
   ]
  },
  {
   "cell_type": "code",
   "execution_count": 112,
   "id": "9c719b5b-d654-46c5-a9d4-c91abb5dd762",
   "metadata": {},
   "outputs": [],
   "source": [
    "data = pd.read_csv(\"C:/Users/ragin/Downloads/Project-2/dataspark.csv\")"
   ]
  },
  {
   "cell_type": "code",
   "execution_count": 114,
   "id": "ebd970d3-e128-4b17-9049-1d0251807e51",
   "metadata": {},
   "outputs": [
    {
     "data": {
      "text/html": [
       "<div>\n",
       "<style scoped>\n",
       "    .dataframe tbody tr th:only-of-type {\n",
       "        vertical-align: middle;\n",
       "    }\n",
       "\n",
       "    .dataframe tbody tr th {\n",
       "        vertical-align: top;\n",
       "    }\n",
       "\n",
       "    .dataframe thead th {\n",
       "        text-align: right;\n",
       "    }\n",
       "</style>\n",
       "<table border=\"1\" class=\"dataframe\">\n",
       "  <thead>\n",
       "    <tr style=\"text-align: right;\">\n",
       "      <th></th>\n",
       "      <th>Order Number</th>\n",
       "      <th>Line Item</th>\n",
       "      <th>Order Date</th>\n",
       "      <th>Delivery Date</th>\n",
       "      <th>CustomerKey</th>\n",
       "      <th>StoreKey</th>\n",
       "      <th>ProductKey</th>\n",
       "      <th>Quantity</th>\n",
       "      <th>Currency Code</th>\n",
       "      <th>Gender</th>\n",
       "      <th>...</th>\n",
       "      <th>Unit Cost USD</th>\n",
       "      <th>Unit Price USD</th>\n",
       "      <th>SubcategoryKey</th>\n",
       "      <th>Subcategory</th>\n",
       "      <th>CategoryKey</th>\n",
       "      <th>Category</th>\n",
       "      <th>Square Meters</th>\n",
       "      <th>Open Date</th>\n",
       "      <th>Currency</th>\n",
       "      <th>Exchange</th>\n",
       "    </tr>\n",
       "  </thead>\n",
       "  <tbody>\n",
       "    <tr>\n",
       "      <th>0</th>\n",
       "      <td>366001</td>\n",
       "      <td>1</td>\n",
       "      <td>1/1/2016</td>\n",
       "      <td>1/13/2016</td>\n",
       "      <td>1269051</td>\n",
       "      <td>0</td>\n",
       "      <td>1048</td>\n",
       "      <td>2</td>\n",
       "      <td>USD</td>\n",
       "      <td>Male</td>\n",
       "      <td>...</td>\n",
       "      <td>141.47</td>\n",
       "      <td>427.0</td>\n",
       "      <td>402</td>\n",
       "      <td>Digital SLR Cameras</td>\n",
       "      <td>4</td>\n",
       "      <td>Cameras and camcorders</td>\n",
       "      <td>0.0</td>\n",
       "      <td>1/1/2010</td>\n",
       "      <td>USD</td>\n",
       "      <td>1.0000</td>\n",
       "    </tr>\n",
       "    <tr>\n",
       "      <th>1</th>\n",
       "      <td>366001</td>\n",
       "      <td>1</td>\n",
       "      <td>1/1/2016</td>\n",
       "      <td>1/13/2016</td>\n",
       "      <td>1269051</td>\n",
       "      <td>0</td>\n",
       "      <td>1048</td>\n",
       "      <td>2</td>\n",
       "      <td>USD</td>\n",
       "      <td>Male</td>\n",
       "      <td>...</td>\n",
       "      <td>141.47</td>\n",
       "      <td>427.0</td>\n",
       "      <td>402</td>\n",
       "      <td>Digital SLR Cameras</td>\n",
       "      <td>4</td>\n",
       "      <td>Cameras and camcorders</td>\n",
       "      <td>0.0</td>\n",
       "      <td>1/1/2010</td>\n",
       "      <td>CAD</td>\n",
       "      <td>1.3884</td>\n",
       "    </tr>\n",
       "    <tr>\n",
       "      <th>2</th>\n",
       "      <td>366001</td>\n",
       "      <td>1</td>\n",
       "      <td>1/1/2016</td>\n",
       "      <td>1/13/2016</td>\n",
       "      <td>1269051</td>\n",
       "      <td>0</td>\n",
       "      <td>1048</td>\n",
       "      <td>2</td>\n",
       "      <td>USD</td>\n",
       "      <td>Male</td>\n",
       "      <td>...</td>\n",
       "      <td>141.47</td>\n",
       "      <td>427.0</td>\n",
       "      <td>402</td>\n",
       "      <td>Digital SLR Cameras</td>\n",
       "      <td>4</td>\n",
       "      <td>Cameras and camcorders</td>\n",
       "      <td>0.0</td>\n",
       "      <td>1/1/2010</td>\n",
       "      <td>AUD</td>\n",
       "      <td>1.3683</td>\n",
       "    </tr>\n",
       "    <tr>\n",
       "      <th>3</th>\n",
       "      <td>366001</td>\n",
       "      <td>1</td>\n",
       "      <td>1/1/2016</td>\n",
       "      <td>1/13/2016</td>\n",
       "      <td>1269051</td>\n",
       "      <td>0</td>\n",
       "      <td>1048</td>\n",
       "      <td>2</td>\n",
       "      <td>USD</td>\n",
       "      <td>Male</td>\n",
       "      <td>...</td>\n",
       "      <td>141.47</td>\n",
       "      <td>427.0</td>\n",
       "      <td>402</td>\n",
       "      <td>Digital SLR Cameras</td>\n",
       "      <td>4</td>\n",
       "      <td>Cameras and camcorders</td>\n",
       "      <td>0.0</td>\n",
       "      <td>1/1/2010</td>\n",
       "      <td>EUR</td>\n",
       "      <td>0.9185</td>\n",
       "    </tr>\n",
       "    <tr>\n",
       "      <th>4</th>\n",
       "      <td>366001</td>\n",
       "      <td>1</td>\n",
       "      <td>1/1/2016</td>\n",
       "      <td>1/13/2016</td>\n",
       "      <td>1269051</td>\n",
       "      <td>0</td>\n",
       "      <td>1048</td>\n",
       "      <td>2</td>\n",
       "      <td>USD</td>\n",
       "      <td>Male</td>\n",
       "      <td>...</td>\n",
       "      <td>141.47</td>\n",
       "      <td>427.0</td>\n",
       "      <td>402</td>\n",
       "      <td>Digital SLR Cameras</td>\n",
       "      <td>4</td>\n",
       "      <td>Cameras and camcorders</td>\n",
       "      <td>0.0</td>\n",
       "      <td>1/1/2010</td>\n",
       "      <td>GBP</td>\n",
       "      <td>0.6742</td>\n",
       "    </tr>\n",
       "  </tbody>\n",
       "</table>\n",
       "<p>5 rows × 31 columns</p>\n",
       "</div>"
      ],
      "text/plain": [
       "   Order Number  Line Item Order Date Delivery Date  CustomerKey  StoreKey  \\\n",
       "0        366001          1   1/1/2016     1/13/2016      1269051         0   \n",
       "1        366001          1   1/1/2016     1/13/2016      1269051         0   \n",
       "2        366001          1   1/1/2016     1/13/2016      1269051         0   \n",
       "3        366001          1   1/1/2016     1/13/2016      1269051         0   \n",
       "4        366001          1   1/1/2016     1/13/2016      1269051         0   \n",
       "\n",
       "   ProductKey  Quantity Currency Code Gender  ... Unit Cost USD  \\\n",
       "0        1048         2           USD   Male  ...        141.47   \n",
       "1        1048         2           USD   Male  ...        141.47   \n",
       "2        1048         2           USD   Male  ...        141.47   \n",
       "3        1048         2           USD   Male  ...        141.47   \n",
       "4        1048         2           USD   Male  ...        141.47   \n",
       "\n",
       "  Unit Price USD SubcategoryKey          Subcategory CategoryKey  \\\n",
       "0          427.0            402  Digital SLR Cameras           4   \n",
       "1          427.0            402  Digital SLR Cameras           4   \n",
       "2          427.0            402  Digital SLR Cameras           4   \n",
       "3          427.0            402  Digital SLR Cameras           4   \n",
       "4          427.0            402  Digital SLR Cameras           4   \n",
       "\n",
       "                 Category Square Meters Open Date Currency Exchange  \n",
       "0  Cameras and camcorders           0.0  1/1/2010      USD   1.0000  \n",
       "1  Cameras and camcorders           0.0  1/1/2010      CAD   1.3884  \n",
       "2  Cameras and camcorders           0.0  1/1/2010      AUD   1.3683  \n",
       "3  Cameras and camcorders           0.0  1/1/2010      EUR   0.9185  \n",
       "4  Cameras and camcorders           0.0  1/1/2010      GBP   0.6742  \n",
       "\n",
       "[5 rows x 31 columns]"
      ]
     },
     "execution_count": 114,
     "metadata": {},
     "output_type": "execute_result"
    }
   ],
   "source": [
    "data.head()"
   ]
  },
  {
   "cell_type": "code",
   "execution_count": 116,
   "id": "af5b7b61-830d-462d-8f6f-25d58a6455ae",
   "metadata": {},
   "outputs": [
    {
     "name": "stdout",
     "output_type": "stream",
     "text": [
      "<class 'pandas.core.frame.DataFrame'>\n",
      "RangeIndex: 65825 entries, 0 to 65824\n",
      "Data columns (total 31 columns):\n",
      " #   Column          Non-Null Count  Dtype  \n",
      "---  ------          --------------  -----  \n",
      " 0   Order Number    65825 non-null  int64  \n",
      " 1   Line Item       65825 non-null  int64  \n",
      " 2   Order Date      65825 non-null  object \n",
      " 3   Delivery Date   65825 non-null  object \n",
      " 4   CustomerKey     65825 non-null  int64  \n",
      " 5   StoreKey        65825 non-null  int64  \n",
      " 6   ProductKey      65825 non-null  int64  \n",
      " 7   Quantity        65825 non-null  int64  \n",
      " 8   Currency Code   65825 non-null  object \n",
      " 9   Gender          65825 non-null  object \n",
      " 10  Name            65825 non-null  object \n",
      " 11  City            65825 non-null  object \n",
      " 12  State Code      65825 non-null  object \n",
      " 13  State           65825 non-null  object \n",
      " 14  Zip Code        65825 non-null  object \n",
      " 15  Country         65825 non-null  object \n",
      " 16  Continent       65825 non-null  object \n",
      " 17  Birthday        65825 non-null  object \n",
      " 18  Product Name    65825 non-null  object \n",
      " 19  Brand           65825 non-null  object \n",
      " 20  Color           65825 non-null  object \n",
      " 21  Unit Cost USD   65825 non-null  float64\n",
      " 22  Unit Price USD  65825 non-null  float64\n",
      " 23  SubcategoryKey  65825 non-null  int64  \n",
      " 24  Subcategory     65825 non-null  object \n",
      " 25  CategoryKey     65825 non-null  int64  \n",
      " 26  Category        65825 non-null  object \n",
      " 27  Square Meters   65825 non-null  float64\n",
      " 28  Open Date       65825 non-null  object \n",
      " 29  Currency        65825 non-null  object \n",
      " 30  Exchange        65825 non-null  float64\n",
      "dtypes: float64(4), int64(8), object(19)\n",
      "memory usage: 15.6+ MB\n"
     ]
    }
   ],
   "source": [
    "data.info()"
   ]
  },
  {
   "cell_type": "code",
   "execution_count": 128,
   "id": "434074e5-acf8-43fd-804f-4ed80add4be3",
   "metadata": {},
   "outputs": [
    {
     "data": {
      "text/plain": [
       "(65825, 31)"
      ]
     },
     "execution_count": 128,
     "metadata": {},
     "output_type": "execute_result"
    }
   ],
   "source": [
    "data.shape"
   ]
  },
  {
   "cell_type": "code",
   "execution_count": 130,
   "id": "a7a6421d-fd43-4841-b656-6d80ad53d976",
   "metadata": {},
   "outputs": [
    {
     "data": {
      "text/plain": [
       "Order Number      0\n",
       "Line Item         0\n",
       "Order Date        0\n",
       "Delivery Date     0\n",
       "CustomerKey       0\n",
       "StoreKey          0\n",
       "ProductKey        0\n",
       "Quantity          0\n",
       "Currency Code     0\n",
       "Gender            0\n",
       "Name              0\n",
       "City              0\n",
       "State Code        0\n",
       "State             0\n",
       "Zip Code          0\n",
       "Country           0\n",
       "Continent         0\n",
       "Birthday          0\n",
       "Product Name      0\n",
       "Brand             0\n",
       "Color             0\n",
       "Unit Cost USD     0\n",
       "Unit Price USD    0\n",
       "SubcategoryKey    0\n",
       "Subcategory       0\n",
       "CategoryKey       0\n",
       "Category          0\n",
       "Square Meters     0\n",
       "Open Date         0\n",
       "Currency          0\n",
       "Exchange          0\n",
       "dtype: int64"
      ]
     },
     "execution_count": 130,
     "metadata": {},
     "output_type": "execute_result"
    }
   ],
   "source": [
    "data.isnull().sum()"
   ]
  },
  {
   "cell_type": "code",
   "execution_count": 118,
   "id": "6dc36e56-9f88-48e5-a895-733a64c94582",
   "metadata": {},
   "outputs": [
    {
     "data": {
      "text/plain": [
       "0"
      ]
     },
     "execution_count": 118,
     "metadata": {},
     "output_type": "execute_result"
    }
   ],
   "source": [
    "data.duplicated().sum()"
   ]
  },
  {
   "cell_type": "code",
   "execution_count": 120,
   "id": "eeba75e7-ad09-4ed4-a4e3-965c5d09de17",
   "metadata": {},
   "outputs": [
    {
     "data": {
      "text/plain": [
       "Index(['Order Number', 'Line Item', 'Order Date', 'Delivery Date',\n",
       "       'CustomerKey', 'StoreKey', 'ProductKey', 'Quantity', 'Currency Code',\n",
       "       'Gender', 'Name', 'City', 'State Code', 'State', 'Zip Code', 'Country',\n",
       "       'Continent', 'Birthday', 'Product Name', 'Brand', 'Color',\n",
       "       'Unit Cost USD', 'Unit Price USD', 'SubcategoryKey', 'Subcategory',\n",
       "       'CategoryKey', 'Category', 'Square Meters', 'Open Date', 'Currency',\n",
       "       'Exchange'],\n",
       "      dtype='object')"
      ]
     },
     "execution_count": 120,
     "metadata": {},
     "output_type": "execute_result"
    }
   ],
   "source": [
    "data.columns"
   ]
  },
  {
   "cell_type": "code",
   "execution_count": null,
   "id": "d6e8a295-1812-4cca-9dee-a7290bda41f5",
   "metadata": {},
   "outputs": [],
   "source": []
  },
  {
   "cell_type": "markdown",
   "id": "5474a80a-bbdc-4d10-a950-9f902aa84993",
   "metadata": {},
   "source": [
    "### CREATE DATABASE"
   ]
  },
  {
   "cell_type": "code",
   "execution_count": 122,
   "id": "7f5bd7c6-68a7-4dc3-9dc1-3b649fd2f1af",
   "metadata": {},
   "outputs": [
    {
     "name": "stdout",
     "output_type": "stream",
     "text": [
      "Database created successfully\n"
     ]
    }
   ],
   "source": [
    "import pymysql\n",
    "\n",
    "myconnection = pymysql.connect(host = '127.0.0.1',user='root',passwd='Ragini95@')\n",
    "\n",
    "cursor =myconnection.cursor()\n",
    "\n",
    "cursor.execute(\"create database Data_Spark\")\n",
    "\n",
    "print(\"Database created successfully\")\n"
   ]
  },
  {
   "cell_type": "code",
   "execution_count": 126,
   "id": "4541937f-3bec-4419-b166-f9a54d95d530",
   "metadata": {},
   "outputs": [
    {
     "name": "stdout",
     "output_type": "stream",
     "text": [
      "data inserted successfully\n"
     ]
    }
   ],
   "source": [
    "#python mysql connection\n",
    "\n",
    "myconnection = pymysql.connect(host='127.0.0.1', user='root',passwd='Ragini95@',database=\"Data_Spark\")\n",
    "read = pd.read_csv(\"dataspark.csv\")\n",
    "read = read.dropna() #drop null values\n",
    "a = \",\".join(f\"`{i}` {j}\" for i, j in zip(read.columns, read.dtypes)).replace(\"float64\", \"FLOAT\").replace(\"object\", \"TEXT\").replace(\"int64\", \"INT\")\n",
    "#replace dtypes from pandas to mysql\n",
    "table_name = \"production_sales_details\"\n",
    "myconnection.cursor().execute(f\"create table {table_name} ({a})\")\n",
    "for i in range(len(read)):\n",
    "    myconnection.cursor().execute(f\"insert into {table_name} values {tuple(read.iloc[i])}\")\n",
    "    myconnection.commit()\n",
    "\n",
    "print(\"data inserted successfully\")"
   ]
  },
  {
   "cell_type": "code",
   "execution_count": 1,
   "id": "6c646cc1-3cd3-455b-9b35-f3629dd1bee1",
   "metadata": {},
   "outputs": [
    {
     "data": {
      "text/html": [
       "<div>\n",
       "<style scoped>\n",
       "    .dataframe tbody tr th:only-of-type {\n",
       "        vertical-align: middle;\n",
       "    }\n",
       "\n",
       "    .dataframe tbody tr th {\n",
       "        vertical-align: top;\n",
       "    }\n",
       "\n",
       "    .dataframe thead th {\n",
       "        text-align: right;\n",
       "    }\n",
       "</style>\n",
       "<table border=\"1\" class=\"dataframe\">\n",
       "  <thead>\n",
       "    <tr style=\"text-align: right;\">\n",
       "      <th></th>\n",
       "      <th>Order Number</th>\n",
       "      <th>Line Item</th>\n",
       "      <th>Order Date</th>\n",
       "      <th>Delivery Date</th>\n",
       "      <th>CustomerKey</th>\n",
       "      <th>StoreKey</th>\n",
       "      <th>ProductKey</th>\n",
       "      <th>Quantity</th>\n",
       "      <th>Currency Code</th>\n",
       "      <th>Gender</th>\n",
       "      <th>...</th>\n",
       "      <th>Unit Cost USD</th>\n",
       "      <th>Unit Price USD</th>\n",
       "      <th>SubcategoryKey</th>\n",
       "      <th>Subcategory</th>\n",
       "      <th>CategoryKey</th>\n",
       "      <th>Category</th>\n",
       "      <th>Square Meters</th>\n",
       "      <th>Open Date</th>\n",
       "      <th>Currency</th>\n",
       "      <th>Exchange</th>\n",
       "    </tr>\n",
       "  </thead>\n",
       "  <tbody>\n",
       "    <tr>\n",
       "      <th>0</th>\n",
       "      <td>366001</td>\n",
       "      <td>1</td>\n",
       "      <td>1/1/2016</td>\n",
       "      <td>1/13/2016</td>\n",
       "      <td>1269051</td>\n",
       "      <td>0</td>\n",
       "      <td>1048</td>\n",
       "      <td>2</td>\n",
       "      <td>USD</td>\n",
       "      <td>Male</td>\n",
       "      <td>...</td>\n",
       "      <td>141.47</td>\n",
       "      <td>427.00</td>\n",
       "      <td>402</td>\n",
       "      <td>Digital SLR Cameras</td>\n",
       "      <td>4</td>\n",
       "      <td>Cameras and camcorders</td>\n",
       "      <td>0.0</td>\n",
       "      <td>1/1/2010</td>\n",
       "      <td>USD</td>\n",
       "      <td>1.0000</td>\n",
       "    </tr>\n",
       "    <tr>\n",
       "      <th>1</th>\n",
       "      <td>366001</td>\n",
       "      <td>1</td>\n",
       "      <td>1/1/2016</td>\n",
       "      <td>1/13/2016</td>\n",
       "      <td>1269051</td>\n",
       "      <td>0</td>\n",
       "      <td>1048</td>\n",
       "      <td>2</td>\n",
       "      <td>USD</td>\n",
       "      <td>Male</td>\n",
       "      <td>...</td>\n",
       "      <td>141.47</td>\n",
       "      <td>427.00</td>\n",
       "      <td>402</td>\n",
       "      <td>Digital SLR Cameras</td>\n",
       "      <td>4</td>\n",
       "      <td>Cameras and camcorders</td>\n",
       "      <td>0.0</td>\n",
       "      <td>1/1/2010</td>\n",
       "      <td>CAD</td>\n",
       "      <td>1.3884</td>\n",
       "    </tr>\n",
       "    <tr>\n",
       "      <th>2</th>\n",
       "      <td>366001</td>\n",
       "      <td>1</td>\n",
       "      <td>1/1/2016</td>\n",
       "      <td>1/13/2016</td>\n",
       "      <td>1269051</td>\n",
       "      <td>0</td>\n",
       "      <td>1048</td>\n",
       "      <td>2</td>\n",
       "      <td>USD</td>\n",
       "      <td>Male</td>\n",
       "      <td>...</td>\n",
       "      <td>141.47</td>\n",
       "      <td>427.00</td>\n",
       "      <td>402</td>\n",
       "      <td>Digital SLR Cameras</td>\n",
       "      <td>4</td>\n",
       "      <td>Cameras and camcorders</td>\n",
       "      <td>0.0</td>\n",
       "      <td>1/1/2010</td>\n",
       "      <td>AUD</td>\n",
       "      <td>1.3683</td>\n",
       "    </tr>\n",
       "    <tr>\n",
       "      <th>3</th>\n",
       "      <td>366001</td>\n",
       "      <td>1</td>\n",
       "      <td>1/1/2016</td>\n",
       "      <td>1/13/2016</td>\n",
       "      <td>1269051</td>\n",
       "      <td>0</td>\n",
       "      <td>1048</td>\n",
       "      <td>2</td>\n",
       "      <td>USD</td>\n",
       "      <td>Male</td>\n",
       "      <td>...</td>\n",
       "      <td>141.47</td>\n",
       "      <td>427.00</td>\n",
       "      <td>402</td>\n",
       "      <td>Digital SLR Cameras</td>\n",
       "      <td>4</td>\n",
       "      <td>Cameras and camcorders</td>\n",
       "      <td>0.0</td>\n",
       "      <td>1/1/2010</td>\n",
       "      <td>EUR</td>\n",
       "      <td>0.9185</td>\n",
       "    </tr>\n",
       "    <tr>\n",
       "      <th>4</th>\n",
       "      <td>366001</td>\n",
       "      <td>1</td>\n",
       "      <td>1/1/2016</td>\n",
       "      <td>1/13/2016</td>\n",
       "      <td>1269051</td>\n",
       "      <td>0</td>\n",
       "      <td>1048</td>\n",
       "      <td>2</td>\n",
       "      <td>USD</td>\n",
       "      <td>Male</td>\n",
       "      <td>...</td>\n",
       "      <td>141.47</td>\n",
       "      <td>427.00</td>\n",
       "      <td>402</td>\n",
       "      <td>Digital SLR Cameras</td>\n",
       "      <td>4</td>\n",
       "      <td>Cameras and camcorders</td>\n",
       "      <td>0.0</td>\n",
       "      <td>1/1/2010</td>\n",
       "      <td>GBP</td>\n",
       "      <td>0.6742</td>\n",
       "    </tr>\n",
       "    <tr>\n",
       "      <th>5</th>\n",
       "      <td>366001</td>\n",
       "      <td>2</td>\n",
       "      <td>1/1/2016</td>\n",
       "      <td>1/13/2016</td>\n",
       "      <td>1269051</td>\n",
       "      <td>0</td>\n",
       "      <td>2007</td>\n",
       "      <td>1</td>\n",
       "      <td>USD</td>\n",
       "      <td>Male</td>\n",
       "      <td>...</td>\n",
       "      <td>220.64</td>\n",
       "      <td>665.94</td>\n",
       "      <td>803</td>\n",
       "      <td>Microwaves</td>\n",
       "      <td>8</td>\n",
       "      <td>Home Appliances</td>\n",
       "      <td>0.0</td>\n",
       "      <td>1/1/2010</td>\n",
       "      <td>USD</td>\n",
       "      <td>1.0000</td>\n",
       "    </tr>\n",
       "    <tr>\n",
       "      <th>6</th>\n",
       "      <td>366001</td>\n",
       "      <td>2</td>\n",
       "      <td>1/1/2016</td>\n",
       "      <td>1/13/2016</td>\n",
       "      <td>1269051</td>\n",
       "      <td>0</td>\n",
       "      <td>2007</td>\n",
       "      <td>1</td>\n",
       "      <td>USD</td>\n",
       "      <td>Male</td>\n",
       "      <td>...</td>\n",
       "      <td>220.64</td>\n",
       "      <td>665.94</td>\n",
       "      <td>803</td>\n",
       "      <td>Microwaves</td>\n",
       "      <td>8</td>\n",
       "      <td>Home Appliances</td>\n",
       "      <td>0.0</td>\n",
       "      <td>1/1/2010</td>\n",
       "      <td>CAD</td>\n",
       "      <td>1.3884</td>\n",
       "    </tr>\n",
       "    <tr>\n",
       "      <th>7</th>\n",
       "      <td>366001</td>\n",
       "      <td>2</td>\n",
       "      <td>1/1/2016</td>\n",
       "      <td>1/13/2016</td>\n",
       "      <td>1269051</td>\n",
       "      <td>0</td>\n",
       "      <td>2007</td>\n",
       "      <td>1</td>\n",
       "      <td>USD</td>\n",
       "      <td>Male</td>\n",
       "      <td>...</td>\n",
       "      <td>220.64</td>\n",
       "      <td>665.94</td>\n",
       "      <td>803</td>\n",
       "      <td>Microwaves</td>\n",
       "      <td>8</td>\n",
       "      <td>Home Appliances</td>\n",
       "      <td>0.0</td>\n",
       "      <td>1/1/2010</td>\n",
       "      <td>AUD</td>\n",
       "      <td>1.3683</td>\n",
       "    </tr>\n",
       "    <tr>\n",
       "      <th>8</th>\n",
       "      <td>366001</td>\n",
       "      <td>2</td>\n",
       "      <td>1/1/2016</td>\n",
       "      <td>1/13/2016</td>\n",
       "      <td>1269051</td>\n",
       "      <td>0</td>\n",
       "      <td>2007</td>\n",
       "      <td>1</td>\n",
       "      <td>USD</td>\n",
       "      <td>Male</td>\n",
       "      <td>...</td>\n",
       "      <td>220.64</td>\n",
       "      <td>665.94</td>\n",
       "      <td>803</td>\n",
       "      <td>Microwaves</td>\n",
       "      <td>8</td>\n",
       "      <td>Home Appliances</td>\n",
       "      <td>0.0</td>\n",
       "      <td>1/1/2010</td>\n",
       "      <td>EUR</td>\n",
       "      <td>0.9185</td>\n",
       "    </tr>\n",
       "    <tr>\n",
       "      <th>9</th>\n",
       "      <td>366001</td>\n",
       "      <td>2</td>\n",
       "      <td>1/1/2016</td>\n",
       "      <td>1/13/2016</td>\n",
       "      <td>1269051</td>\n",
       "      <td>0</td>\n",
       "      <td>2007</td>\n",
       "      <td>1</td>\n",
       "      <td>USD</td>\n",
       "      <td>Male</td>\n",
       "      <td>...</td>\n",
       "      <td>220.64</td>\n",
       "      <td>665.94</td>\n",
       "      <td>803</td>\n",
       "      <td>Microwaves</td>\n",
       "      <td>8</td>\n",
       "      <td>Home Appliances</td>\n",
       "      <td>0.0</td>\n",
       "      <td>1/1/2010</td>\n",
       "      <td>GBP</td>\n",
       "      <td>0.6742</td>\n",
       "    </tr>\n",
       "  </tbody>\n",
       "</table>\n",
       "<p>10 rows × 31 columns</p>\n",
       "</div>"
      ],
      "text/plain": [
       "   Order Number  Line Item Order Date Delivery Date  CustomerKey  StoreKey  \\\n",
       "0        366001          1   1/1/2016     1/13/2016      1269051         0   \n",
       "1        366001          1   1/1/2016     1/13/2016      1269051         0   \n",
       "2        366001          1   1/1/2016     1/13/2016      1269051         0   \n",
       "3        366001          1   1/1/2016     1/13/2016      1269051         0   \n",
       "4        366001          1   1/1/2016     1/13/2016      1269051         0   \n",
       "5        366001          2   1/1/2016     1/13/2016      1269051         0   \n",
       "6        366001          2   1/1/2016     1/13/2016      1269051         0   \n",
       "7        366001          2   1/1/2016     1/13/2016      1269051         0   \n",
       "8        366001          2   1/1/2016     1/13/2016      1269051         0   \n",
       "9        366001          2   1/1/2016     1/13/2016      1269051         0   \n",
       "\n",
       "   ProductKey  Quantity Currency Code Gender  ... Unit Cost USD  \\\n",
       "0        1048         2           USD   Male  ...        141.47   \n",
       "1        1048         2           USD   Male  ...        141.47   \n",
       "2        1048         2           USD   Male  ...        141.47   \n",
       "3        1048         2           USD   Male  ...        141.47   \n",
       "4        1048         2           USD   Male  ...        141.47   \n",
       "5        2007         1           USD   Male  ...        220.64   \n",
       "6        2007         1           USD   Male  ...        220.64   \n",
       "7        2007         1           USD   Male  ...        220.64   \n",
       "8        2007         1           USD   Male  ...        220.64   \n",
       "9        2007         1           USD   Male  ...        220.64   \n",
       "\n",
       "  Unit Price USD SubcategoryKey          Subcategory CategoryKey  \\\n",
       "0         427.00            402  Digital SLR Cameras           4   \n",
       "1         427.00            402  Digital SLR Cameras           4   \n",
       "2         427.00            402  Digital SLR Cameras           4   \n",
       "3         427.00            402  Digital SLR Cameras           4   \n",
       "4         427.00            402  Digital SLR Cameras           4   \n",
       "5         665.94            803           Microwaves           8   \n",
       "6         665.94            803           Microwaves           8   \n",
       "7         665.94            803           Microwaves           8   \n",
       "8         665.94            803           Microwaves           8   \n",
       "9         665.94            803           Microwaves           8   \n",
       "\n",
       "                 Category Square Meters Open Date Currency Exchange  \n",
       "0  Cameras and camcorders           0.0  1/1/2010      USD   1.0000  \n",
       "1  Cameras and camcorders           0.0  1/1/2010      CAD   1.3884  \n",
       "2  Cameras and camcorders           0.0  1/1/2010      AUD   1.3683  \n",
       "3  Cameras and camcorders           0.0  1/1/2010      EUR   0.9185  \n",
       "4  Cameras and camcorders           0.0  1/1/2010      GBP   0.6742  \n",
       "5         Home Appliances           0.0  1/1/2010      USD   1.0000  \n",
       "6         Home Appliances           0.0  1/1/2010      CAD   1.3884  \n",
       "7         Home Appliances           0.0  1/1/2010      AUD   1.3683  \n",
       "8         Home Appliances           0.0  1/1/2010      EUR   0.9185  \n",
       "9         Home Appliances           0.0  1/1/2010      GBP   0.6742  \n",
       "\n",
       "[10 rows x 31 columns]"
      ]
     },
     "execution_count": 1,
     "metadata": {},
     "output_type": "execute_result"
    }
   ],
   "source": [
    "import pandas as pd\n",
    "read = pd.read_csv(\"dataspark.csv\")\n",
    "read.head(10)"
   ]
  },
  {
   "cell_type": "code",
   "execution_count": null,
   "id": "8cfea212-4e3e-48db-989c-54cf14fd901e",
   "metadata": {},
   "outputs": [],
   "source": []
  }
 ],
 "metadata": {
  "kernelspec": {
   "display_name": "Python 3 (ipykernel)",
   "language": "python",
   "name": "python3"
  },
  "language_info": {
   "codemirror_mode": {
    "name": "ipython",
    "version": 3
   },
   "file_extension": ".py",
   "mimetype": "text/x-python",
   "name": "python",
   "nbconvert_exporter": "python",
   "pygments_lexer": "ipython3",
   "version": "3.12.4"
  }
 },
 "nbformat": 4,
 "nbformat_minor": 5
}
